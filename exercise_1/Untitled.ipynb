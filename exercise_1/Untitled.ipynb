{
 "cells": [
  {
   "cell_type": "markdown",
   "id": "145256ba-c927-49c6-8a4a-e7809db56910",
   "metadata": {},
   "source": [
    "# Datenauswertung mit Python - Übung 1"
   ]
  },
  {
   "cell_type": "markdown",
   "id": "649a652f-2264-421f-ae09-42bfc9fae7a4",
   "metadata": {},
   "source": [
    "## Aufgabe 1: Verdünnungsreihe\n",
    "### Funktionen: Verdünnung\n",
    "Berechne aus der gegebenen Konzentration der Stammlösung, der Konzentration der verdünnten Säure und dem Zielvolumen **die Menge and Stammlösung** die benötigt wird. Nutze dazu eine **Funktion** `get_dilution`."
   ]
  },
  {
   "cell_type": "code",
   "execution_count": null,
   "id": "ede0c00a-c8ad-46a1-a7ef-67510b93a0c1",
   "metadata": {},
   "outputs": [],
   "source": [
    "def get_dilution(c_start, c_target, v_target):\n",
    "    \"\"\"\n",
    "    TODO: Berechne das Volumen v_start und das Verdünnungsvolumen v_water, dass benötigt wird\n",
    "    \"\"\"\n",
    "    return v_start, v_water\n",
    "\n",
    "# Input Variablen\n",
    "concentration_available = 12.39 # Konzentration Stammlösung, mol/L\n",
    "concentration_target = 0.2 # Zielkonzentration, mol/L\n",
    "volume_target = 1.0 # Zielvolumen, L\n",
    "\n",
    "#TODO: Rufe die Funktion get_dilution mit den entsprechenden Argumenten auf\n",
    "get_dilution()\n",
    "# TODO: Füge die entsprechenden Variablen ein\n",
    "print(f\"Für VOLUMEN L einer Säure von KONZENTRATION mol/L \" \\\n",
    "        f\"müssen VOLUMEN_SÄURE L Säure und VOLUMEN_WASSER L Wasser gemischt werden.\")"
   ]
  },
  {
   "cell_type": "markdown",
   "id": "fd89b79d-506d-4a1c-a03f-1c689d2eff1f",
   "metadata": {},
   "source": [
    "### For-Loops: Berechnung mehrerer Zielkonzentrationen\n",
    "Wiederhole die Rechnung aus der vorigen Aufgabe für alle Zielkonzentrationen in der Liste `concentrations` in einem **for-Loop**. Nutze dabei die Funktion `get_dilution` innerhalb des Loops."
   ]
  },
  {
   "cell_type": "code",
   "execution_count": 3,
   "id": "b0802d0a-2149-415a-b59e-0c050ad36548",
   "metadata": {},
   "outputs": [],
   "source": [
    "concentration_available = 12.39 # Konzentration Stammlösung, mol/L\n",
    "volume_target = 1 # Zielvolumen, L\n",
    "concentrations = [0.1, 0.5, 0.75, 1, 5, 10] # # Zielkonzentration, mol/L\n",
    "\n",
    "# TODO: Loop vervollständigen\n",
    "for in :\n",
    "    get_dilution()\n",
    "    print(f\"Für VOLUMEN L einer Säure von KONZENTRATION mol/L \" \\\n",
    "        f\"müssen VOLUMEN_SÄURE L Säure und VOLUMEN_WASSER L Wasser gemischt werden.\")"
   ]
  },
  {
   "cell_type": "markdown",
   "id": "0363d555-2d35-407a-b2a4-b9756ce307b2",
   "metadata": {},
   "source": [
    "### Bediungungen: Schließe zu hohe Konzentrationen aus\n",
    "Wenn die Zielkonzentration höher ist als die der Stammlösung, ist es nicht möglich diese durch Verdünnung herzustellen. Schließe diese Fälle aus indem du in den Code aus der vorigen Aufgabe eine **if/else** Bedingung einbaust, die prüft ob die Zielkonzentration höher ist als die der Stammlösung."
   ]
  },
  {
   "cell_type": "code",
   "execution_count": 4,
   "id": "172ac021-116f-43e3-8f13-28ec25336314",
   "metadata": {},
   "outputs": [
    {
     "ename": "SyntaxError",
     "evalue": "invalid syntax (2163880833.py, line 6)",
     "output_type": "error",
     "traceback": [
      "\u001b[0;36m  Cell \u001b[0;32mIn[4], line 6\u001b[0;36m\u001b[0m\n\u001b[0;31m    for  in :\u001b[0m\n\u001b[0m         ^\u001b[0m\n\u001b[0;31mSyntaxError\u001b[0m\u001b[0;31m:\u001b[0m invalid syntax\n"
     ]
    }
   ],
   "source": [
    "concentration_available = 12.39 # mol/L\n",
    "volume_target = 1 # L\n",
    "concentrations = [0.1, 0.5, 0.75, 1, 5, 10, 15] # mol/L\n",
    "\n",
    "# TODO: Vervollständige den Loop aus der letzten Aufgabe\n",
    "for  in :\n",
    "    # TODO: Prüfe ob die Zielkonzentration größer als die Ausgangskonzentration ist\n",
    "    if :\n",
    "        print(f\"Die Zielkonzentration von {concentration_target:4.3f} mol/L ist höher als die vorhandene ({concentration_available:4.3f} mol/L)!\")\n",
    "\n",
    "    else:\n",
    "        # TODO: Füge die entsprechenden Argumente in die Funktion ein, siehe Teil 1\n",
    "        get_dilution()\n",
    "        print(f\"Für VOLUMEN L einer Säure von KONZENTRATION mol/L \" \\\n",
    "              f\"müssen VOLUMEN_SÄURE L Säure und VOLUMEN_WASSER L Wasser gemischt werden.\")"
   ]
  },
  {
   "cell_type": "markdown",
   "id": "f9f14f21-b6d8-4eec-bed4-59ccf46565fa",
   "metadata": {},
   "source": [
    "# Aufgabe 2: Spektrum analysieren\n",
    "### Daten Laden\n",
    "Für das Laden der Daten ist eine Funktion vorgegeben, die die Daten aus der `spektrum.csv` Datei lädt. Nutze die Funktion, um die x- und y- Werte des Spektrums zu laden."
   ]
  },
  {
   "cell_type": "code",
   "execution_count": null,
   "id": "977adaf4-c9eb-48c0-ab74-b57b09b18672",
   "metadata": {},
   "outputs": [],
   "source": [
    "def load_spectrum(filename, separator=\",\"):\n",
    "    \"\"\"\n",
    "    Lädt ein .csv Spektrum als Liste\n",
    "    filename: String mit Dateiname\n",
    "    separator: Trenner der x,y Daten in der Datei\n",
    "    Output:\n",
    "    x: X-Werte als Liste\n",
    "    y: Y-Werte als Liste\n",
    "    \"\"\"\n",
    "    x = []\n",
    "    y = []\n",
    "    with open(filename) as file:\n",
    "        for line in f:\n",
    "            x, y = line.split()"
   ]
  }
 ],
 "metadata": {
  "kernelspec": {
   "display_name": "Python 3 (ipykernel)",
   "language": "python",
   "name": "python3"
  },
  "language_info": {
   "codemirror_mode": {
    "name": "ipython",
    "version": 3
   },
   "file_extension": ".py",
   "mimetype": "text/x-python",
   "name": "python",
   "nbconvert_exporter": "python",
   "pygments_lexer": "ipython3",
   "version": "3.12.4"
  }
 },
 "nbformat": 4,
 "nbformat_minor": 5
}
