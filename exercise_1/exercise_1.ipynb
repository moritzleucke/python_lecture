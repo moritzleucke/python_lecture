{
 "cells": [
  {
   "cell_type": "markdown",
   "id": "145256ba-c927-49c6-8a4a-e7809db56910",
   "metadata": {},
   "source": [
    "# Datenauswertung mit Python - Übung 1"
   ]
  },
  {
   "cell_type": "markdown",
   "id": "649a652f-2264-421f-ae09-42bfc9fae7a4",
   "metadata": {},
   "source": [
    "## Aufgabe 1: Verdünnungsreihe\n",
    "### Funktionen: Verdünnung\n",
    "Berechne aus der gegebenen Konzentration der Stammlösung, der Konzentration der verdünnten Säure und dem Zielvolumen **die Menge and Stammlösung** die benötigt wird. Nutze dazu eine **Funktion** `get_dilution`."
   ]
  },
  {
   "cell_type": "code",
   "execution_count": null,
   "id": "ede0c00a-c8ad-46a1-a7ef-67510b93a0c1",
   "metadata": {},
   "outputs": [],
   "source": [
    "def get_dilution(c_start, c_target, v_target):\n",
    "    \"\"\"\n",
    "    TODO: Berechne das Volumen v_start und das Verdünnungsvolumen v_water, dass benötigt wird\n",
    "    \"\"\"\n",
    "    return v_start, v_water\n",
    "\n",
    "# Input Variablen\n",
    "concentration_available = 12.39 # Konzentration Stammlösung, mol/L\n",
    "concentration_target = 0.2 # Zielkonzentration, mol/L\n",
    "volume_target = 1.0 # Zielvolumen, L\n",
    "\n",
    "#TODO: Rufe die Funktion get_dilution mit den entsprechenden Argumenten auf\n",
    "get_dilution()\n",
    "# TODO: Füge die entsprechenden Variablen ein\n",
    "print(f\"Für VOLUMEN L einer Säure von KONZENTRATION mol/L \" \\\n",
    "        f\"müssen VOLUMEN_SÄURE L Säure und VOLUMEN_WASSER L Wasser gemischt werden.\")"
   ]
  },
  {
   "cell_type": "markdown",
   "id": "fd89b79d-506d-4a1c-a03f-1c689d2eff1f",
   "metadata": {},
   "source": [
    "### For-Loops: Berechnung mehrerer Zielkonzentrationen\n",
    "Wiederhole die Rechnung aus der vorigen Aufgabe für alle Zielkonzentrationen in der Liste `concentrations` in einem **for-Loop**. Nutze dabei die Funktion `get_dilution` innerhalb des Loops."
   ]
  },
  {
   "cell_type": "code",
   "execution_count": 3,
   "id": "b0802d0a-2149-415a-b59e-0c050ad36548",
   "metadata": {},
   "outputs": [],
   "source": [
    "concentration_available = 12.39 # Konzentration Stammlösung, mol/L\n",
    "volume_target = 1 # Zielvolumen, L\n",
    "concentrations = [0.1, 0.5, 0.75, 1, 5, 10] # # Zielkonzentration, mol/L\n",
    "\n",
    "# TODO: Loop vervollständigen\n",
    "for in :\n",
    "    get_dilution()\n",
    "    print(f\"Für VOLUMEN L einer Säure von KONZENTRATION mol/L \" \\\n",
    "        f\"müssen VOLUMEN_SÄURE L Säure und VOLUMEN_WASSER L Wasser gemischt werden.\")"
   ]
  },
  {
   "cell_type": "markdown",
   "id": "0363d555-2d35-407a-b2a4-b9756ce307b2",
   "metadata": {},
   "source": [
    "### Bediungungen: Schließe zu hohe Konzentrationen aus\n",
    "Wenn die Zielkonzentration höher ist als die der Stammlösung, ist es nicht möglich diese durch Verdünnung herzustellen. Schließe diese Fälle aus indem du in den Code aus der vorigen Aufgabe eine **if/else** Bedingung einbaust, die prüft ob die Zielkonzentration höher ist als die der Stammlösung."
   ]
  },
  {
   "cell_type": "code",
   "execution_count": 4,
   "id": "172ac021-116f-43e3-8f13-28ec25336314",
   "metadata": {},
   "outputs": [
    {
     "ename": "SyntaxError",
     "evalue": "invalid syntax (2163880833.py, line 6)",
     "output_type": "error",
     "traceback": [
      "\u001b[0;36m  Cell \u001b[0;32mIn[4], line 6\u001b[0;36m\u001b[0m\n\u001b[0;31m    for  in :\u001b[0m\n\u001b[0m         ^\u001b[0m\n\u001b[0;31mSyntaxError\u001b[0m\u001b[0;31m:\u001b[0m invalid syntax\n"
     ]
    }
   ],
   "source": [
    "concentration_available = 12.39 # mol/L\n",
    "volume_target = 1 # L\n",
    "concentrations = [0.1, 0.5, 0.75, 1, 5, 10, 15] # mol/L\n",
    "\n",
    "# TODO: Vervollständige den Loop aus der letzten Aufgabe\n",
    "for  in :\n",
    "    # TODO: Prüfe ob die Zielkonzentration größer als die Ausgangskonzentration ist\n",
    "    if :\n",
    "        print(f\"Die Zielkonzentration von {concentration_target:4.3f} mol/L ist höher als die vorhandene ({concentration_available:4.3f} mol/L)!\")\n",
    "\n",
    "    else:\n",
    "        # TODO: Füge die entsprechenden Argumente in die Funktion ein, siehe Teil 1\n",
    "        get_dilution()\n",
    "        print(f\"Für VOLUMEN L einer Säure von KONZENTRATION mol/L \" \\\n",
    "              f\"müssen VOLUMEN_SÄURE L Säure und VOLUMEN_WASSER L Wasser gemischt werden.\")"
   ]
  },
  {
   "cell_type": "markdown",
   "id": "f9f14f21-b6d8-4eec-bed4-59ccf46565fa",
   "metadata": {},
   "source": [
    "# Aufgabe 2: Spektrum analysieren\n",
    "Für die Übung ist ein IR-Spektrum von Dimethylacetmamid (DMAc) gegeben.\n",
    "\n",
    "![DMAC Spektrum](tex0_3-1.png)\n",
    "### Daten Laden\n",
    "Für das Laden der Daten ist eine Funktion vorgegeben, die die Daten des Spektrums als Listen mit den x- und y-Werten lädt. Nutze die Funktion, um die x- und y- Werte des Spektrums aus der Datei `dmac.csv` zu laden."
   ]
  },
  {
   "cell_type": "code",
   "execution_count": 9,
   "id": "977adaf4-c9eb-48c0-ab74-b57b09b18672",
   "metadata": {},
   "outputs": [],
   "source": [
    "def load_spectrum(filename, separator=\",\"):\n",
    "    \"\"\"\n",
    "    Lädt ein .csv Spektrum als Liste\n",
    "    filename: String mit Dateiname\n",
    "    separator: Trenner der x,y Daten in der Datei\n",
    "    Output:\n",
    "    x: X-Werte als Liste\n",
    "    y: Y-Werte als Liste\n",
    "    \"\"\"\n",
    "    x_list = []\n",
    "    y_list = []\n",
    "    with open(filename) as file:\n",
    "        for line in file:\n",
    "            x, y = line.split(separator)\n",
    "            x_list.append(float(x))\n",
    "            y_list.append(float(y))\n",
    "\n",
    "    return x_list, y_list\n",
    "\n",
    "\n",
    "filename = \"dmac.csv\"\n",
    "# TODO: Lade das Spektrum\n"
   ]
  },
  {
   "cell_type": "markdown",
   "id": "348fd34e-85cb-49e6-9a2c-030afed547f8",
   "metadata": {},
   "source": [
    "### Finde die Position des größten Peaks\n",
    "Schreibe eine Funktion die das Absorptionsmaximum und die Wellenzahl des Absorptionsmaximum findet.\n",
    "### Hinweise\n",
    "- Es wird eine **if/else** Bedingung benötigt\n",
    "- Es kann gleichzeitig über den Index einer Liste und die Elemente gelooped werden:\n",
    "```python\n",
    "    for idx, element in enumerate(some_list):\n",
    "```\n",
    "- der Index max_idx kann am Ende genutzt werden um die entsprechenden Elemente der Listen aufzurufen"
   ]
  },
  {
   "cell_type": "code",
   "execution_count": 10,
   "id": "489f1965-87af-4ae1-8c68-8ee2f35db93e",
   "metadata": {},
   "outputs": [],
   "source": [
    "def peak_maximum(x, y):\n",
    "    \"\"\"\n",
    "    Findet den x-  und y- Wert für das Maximum der y-Werte\n",
    "    x: Wellenzahlen\n",
    "    y: Absorption\n",
    "    Output:\n",
    "    x_max: Wellenzahl des Absorptionsmaximum\n",
    "    y_max: Absorptionsmaximum\n",
    "    \"\"\"\n",
    "    max_idx = 0# Index des größten Elements\n",
    "    max_y = 0 # Startwert, das Maximum muss größer als 0 sein\n",
    "    for ____ in ____:\n",
    "        \"\"\"\n",
    "        TODO: Update max_idx  und max_y um am Ende den Index des größten Elements zu finden\n",
    "        \"\"\"\n",
    "    return x_max, y_max\n",
    "\n",
    "\n",
    "x_max, y_max = peak_maximum(x, y)\n",
    "\n",
    "print(f\"Das Maximum des größten Peaks liegt bei {x_max:.3f} cm^-1\")"
   ]
  },
  {
   "cell_type": "markdown",
   "id": "5823d865-ad4a-4061-8460-273b08c2935c",
   "metadata": {},
   "source": [
    "### Finde die Positionen der anderen markierten Peaks in der Abbildung\n",
    "Auch wenn das Spektrum mehrere Peakmaxima aufweist, kann die Funktion `peak_maximum` nur das größte im Spektrum finden. Da wir aber wissen **wo** die verschiedenen Maxima auftauchen, können wir den Suchbereich eingrenzen um die gewünschten Peaks zu erhalten. Wir möchten die exakten Positionen von 4 Peaks finden:\n",
    "- Zwischen 900 $\\mathrm{cm}^{-1}$ und 1100 $\\mathrm{cm}^{-1}$\n",
    "- Zwischen 1100 $\\mathrm{cm}^{-1}$ und 1300 $\\mathrm{cm}^{-1}$\n",
    "- Zwischen 1300 $\\mathrm{cm}^{-1}$ und 1500 $\\mathrm{cm}^{-1}$\n",
    "- Zwischen 1600 $\\mathrm{cm}^{-1}$ und 1800 $\\mathrm{cm}^{-1}$\n",
    "\n",
    "Die Positionen der Peaks kann bestimmt werden, indem zunächst das Spektrum mit der Funktion `mask_spectrum` auf einen Teilbereich eingegrenzt wird, um danach innerhalb dieses Teilbereichs mit `peak_maxiumum` das Maximum zu finden.\n",
    "\n",
    "### Hinweise:\n",
    "- List comprehensions können nützlich und effizient sein:\n",
    "```python\n",
    "       some_list = [element for element in Liste if Bedingung ]\n",
    "```\n",
    "- Über mehrere Listen kann mit der `zip` Funktion gelooped werden:\n",
    "```python\n",
    "    for el1, el2 in zip(list1, list2):\n",
    "```"
   ]
  },
  {
   "cell_type": "code",
   "execution_count": 11,
   "id": "0c91c36f-6612-4c31-91b1-0ef860324977",
   "metadata": {},
   "outputs": [],
   "source": [
    "def mask_spectrum(x, y, x_min, x_max):\n",
    "    \"\"\"\n",
    "    Entfernt den Teil des Spektrums der nicht zwischen x_min und x_max liegt\n",
    "    x: Wellenzahlen\n",
    "    y: Absorption\n",
    "    x_min: Kleinster X-Wert im Ausschnitt des Spektrums\n",
    "    x_max: Größter x-Wert im Ausschnitt des Spektrums\n",
    "    Output:\n",
    "    x_masked: Wellenzahlen im Bereich x_min bis x_max\n",
    "    y_masked:  Absorption im Bereich x_min bis x_max\n",
    "    \"\"\"\n",
    "    x_masked = []\n",
    "    y_masked = []\n",
    "    \n",
    "    return x_masked, y_masked\n",
    "\n",
    "peak_min = [900, 1100, 1300, 1600]\n",
    "peak_max = [1100, 1300, 1500, 1800]\n",
    "\n",
    "# TODO: Bestimme die Peakmaxima in einem For-Loop"
   ]
  }
 ],
 "metadata": {
  "kernelspec": {
   "display_name": "Python 3 (ipykernel)",
   "language": "python",
   "name": "python3"
  },
  "language_info": {
   "codemirror_mode": {
    "name": "ipython",
    "version": 3
   },
   "file_extension": ".py",
   "mimetype": "text/x-python",
   "name": "python",
   "nbconvert_exporter": "python",
   "pygments_lexer": "ipython3",
   "version": "3.12.4"
  }
 },
 "nbformat": 4,
 "nbformat_minor": 5
}
