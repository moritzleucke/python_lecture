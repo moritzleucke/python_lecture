{
 "cells": [
  {
   "cell_type": "markdown",
   "id": "5259020d",
   "metadata": {
    "slideshow": {
     "slide_type": "slide"
    },
    "tags": []
   },
   "source": [
    "# Module in Python"
   ]
  },
  {
   "cell_type": "markdown",
   "id": "e393c915",
   "metadata": {},
   "source": [
    "Vorlesung Theoretische Chemie (WiSe 2024/2025) "
   ]
  },
  {
   "cell_type": "markdown",
   "id": "14243003",
   "metadata": {
    "slideshow": {
     "slide_type": "slide"
    }
   },
   "source": [
    "# Was ist ein Python Modul \n",
    "\n",
    "- **Modul**: Erweiterung der Python Sprache, die spezielle Funktionen / Konstanten bereitstellt\n",
    "- ständige Neuimplementierung von Basisfunktionen ist nicht notwendig\n",
    "\n",
    "**Bsp. Konstanten und Mathematische Funktionen**:"
   ]
  },
  {
   "cell_type": "code",
   "execution_count": null,
   "id": "8704354b",
   "metadata": {},
   "outputs": [],
   "source": [
    "import numpy as np \n",
    "print(np.pi)     # Kreiszahl Pi\n",
    "print(np.sin(0)) # Sinusfunktion"
   ]
  },
  {
   "cell_type": "markdown",
   "id": "dc3c6fd4",
   "metadata": {
    "slideshow": {
     "slide_type": "slide"
    }
   },
   "source": [
    "# Relevante Module für Chemie / Wissenschaften\n",
    "\n",
    "- **NumPy**: mathematische Funktionen, Lineare Algebra, Daten Einlesen\n",
    "- **Matplotlib**: Graphen erstellen\n",
    "- **SciPy**: Regression, Optimierungsprobleme, ...\n",
    "- **Pandas**: Analyse von großen Datensätzen\n",
    "- ..."
   ]
  },
  {
   "cell_type": "markdown",
   "id": "b36abc47",
   "metadata": {
    "slideshow": {
     "slide_type": "slide"
    }
   },
   "source": [
    "# Installation von Modulen\n",
    "- nicht alle Module sind in der Installation von Python enthalten\n",
    "- Installation abhängig von Paketmanager\n",
    "    - `pip` (standard Python Paketmanager)\n",
    "        ```bash\n",
    "        pip install numpy\n",
    "        ```\n",
    "    - `conda` Anaconda Paketmanager\n",
    "        ```bash\n",
    "        conda install numpy\n",
    "        ```\n",
    "- Python Editoren wie PyCharm ermöglichen auch das Installieren mit einer grafischen Benutzeroberfläche"
   ]
  },
  {
   "cell_type": "markdown",
   "id": "135a82ae",
   "metadata": {
    "slideshow": {
     "slide_type": "slide"
    }
   },
   "source": [
    "# Einbinden von Python Modulen \n",
    "\n",
    "Einfacher Import:\n",
    "```python\n",
    "import modul \n",
    "```\n",
    "\n",
    "Import mit alias:\n",
    "```python\n",
    "import modul as alias      # bevorzugt \n",
    "```\n",
    "\n",
    "Import von spezifischen Funktionen/Objekten:\n",
    "```python \n",
    "from modul import module_function\n",
    "```"
   ]
  },
  {
   "cell_type": "code",
   "execution_count": null,
   "id": "e76aa321",
   "metadata": {},
   "outputs": [],
   "source": [
    "import numpy\n",
    "print(numpy.pi)\n",
    "print(numpy.sin(0))"
   ]
  },
  {
   "cell_type": "code",
   "execution_count": null,
   "id": "3d0d0d88",
   "metadata": {},
   "outputs": [],
   "source": [
    "import numpy as npy\n",
    "print(npy.pi)\n",
    "print(npy.sin(0))"
   ]
  },
  {
   "cell_type": "code",
   "execution_count": null,
   "id": "477cd2d6",
   "metadata": {},
   "outputs": [],
   "source": [
    "from numpy import pi, sin\n",
    "print(pi)\n",
    "print(sin(0))"
   ]
  },
  {
   "cell_type": "markdown",
   "id": "ad5e5b6e",
   "metadata": {
    "slideshow": {
     "slide_type": "slide"
    }
   },
   "source": [
    "# Wo Modul import statement setzen\n",
    "- als allererstes im Python Script \n",
    "- jedes Modul nur einmal importieren\n",
    "\n",
    "```python \n",
    "# als erstes Module importieren\n",
    "import module1 as m1\n",
    "import module2\n",
    "from module3 import function_5\n",
    "\n",
    "# danach folgen Funktionsdefinitionen\n",
    "def my_function1():\n",
    "    ...\n",
    "    return ...\n",
    "\n",
    "# danach die eigentlichen Berechnungen\n",
    "a = ...\n",
    "b = ...\n",
    "print(...)\n",
    "\n",
    "```"
   ]
  },
  {
   "cell_type": "markdown",
   "id": "3b2d2d63",
   "metadata": {
    "slideshow": {
     "slide_type": "slide"
    }
   },
   "source": [
    "# Numpy"
   ]
  },
  {
   "cell_type": "markdown",
   "id": "2568b6bf",
   "metadata": {
    "slideshow": {
     "slide_type": "slide"
    }
   },
   "source": [
    "# Numpy: Überblick\n",
    "\n",
    "- Numpy: \"Numerical Python\"\n",
    "- **Inhalt**\n",
    "    - Konstanten: Eulersche Zahl, Kreiszahl $\\pi$, ...\n",
    "    - Funktionen: trigonometrische Funktionen, exponential und logarithmus Funktionen, numerische Integration, numerische Ableitung, ...\n",
    "    - **lineare Algebra**: Matrizen (Tensoren), Matrix Operationen (Eigenwert Löser, Matrix Produkt, ...)\n",
    "    - einlesen von Datensätzen"
   ]
  },
  {
   "cell_type": "markdown",
   "id": "d4de3a1f",
   "metadata": {
    "slideshow": {
     "slide_type": "slide"
    }
   },
   "source": [
    "# Numpy: Arrays (Matrizen, Tensoren)\n",
    "\n",
    "- Arrays bezeichnet den Datentyp zum Speichern eines Tensors \n",
    "\n",
    "| Array-Typ | Bezeichnung         |\n",
    "|-----------|----------------------|\n",
    "| 0D-Array  | Skalar              |\n",
    "| 1D-Array  | Vektor              |\n",
    "| 2D-Array  | Matrix              |\n",
    "| 3D-Array  | Rang-3 Tensor       |\n",
    "| nD-Array  | Rang-n Tensor       |\n",
    "- Elemente im Tensor haben einen eizigen Datentypen (z.B. Float oder Integer)\n"
   ]
  },
  {
   "cell_type": "markdown",
   "id": "ec7c769d",
   "metadata": {
    "slideshow": {
     "slide_type": "-"
    }
   },
   "source": [
    "<div style=\"background-color: lightblue; padding: 10px;\">\n",
    "    <h3>Brauch ich Arrays auch wenn man als Experimentalchemiker arbeite?</h3>\n",
    "    <p><b>Ja</b>: Arbeiten mit Datensätzen, z.B. Spektren mit x und y listen als 1D Arrays, oder 2D mit Zeitauflösung </p>\n",
    "</div>"
   ]
  },
  {
   "cell_type": "markdown",
   "id": "b18c85a6",
   "metadata": {
    "slideshow": {
     "slide_type": "slide"
    }
   },
   "source": [
    "# Numpy: Erstellen eines Arrays\n",
    "## aus Listen "
   ]
  },
  {
   "cell_type": "code",
   "execution_count": null,
   "id": "115c85c9",
   "metadata": {},
   "outputs": [],
   "source": [
    "import numpy as np\n",
    "my_list = [1, 2, 3, 4]\n",
    "my_array = np.array(my_list)      # erstellt den 1D-Array\n",
    "print(type(my_list))\n",
    "\n",
    "my_array = np.array([1, 2, 3, 4]) # auch so möglich\n",
    "print(my_array)"
   ]
  },
  {
   "cell_type": "code",
   "execution_count": null,
   "id": "81d7ddc8",
   "metadata": {},
   "outputs": [],
   "source": [
    "import numpy as np\n",
    "my_array = np.array([[1, 2], [3, 4], [5, 6]]) # erstellt eine Matrix\n",
    "print(my_array)"
   ]
  },
  {
   "cell_type": "markdown",
   "id": "ee90bcb8",
   "metadata": {
    "slideshow": {
     "slide_type": "slide"
    }
   },
   "source": [
    "# Numpy: Erstellen eines Arrays\n",
    "## mit generierenden Funktionen "
   ]
  },
  {
   "cell_type": "code",
   "execution_count": null,
   "id": "8cbb1c35",
   "metadata": {},
   "outputs": [],
   "source": [
    "import numpy as np\n",
    "my_array = np.linspace(-1.0, 2.0, 10)  # 1D-Array: (start, stop, elements)\n",
    "print(my_array)\n",
    "my_array = np.arange(-1.0, 2.0, 0.4)  # 1D-Array: (start, stop, step)\n",
    "print(my_array)"
   ]
  },
  {
   "cell_type": "code",
   "execution_count": null,
   "id": "570fad90",
   "metadata": {},
   "outputs": [],
   "source": [
    "import numpy as np\n",
    "my_array = np.zeros((2, 3))  # 2D-Array: (dim1, dim2)\n",
    "print(my_array)"
   ]
  },
  {
   "cell_type": "markdown",
   "id": "a1d4c845",
   "metadata": {
    "slideshow": {
     "slide_type": "slide"
    }
   },
   "source": [
    "# Numpy: Python Listen vs Numpy Arrays"
   ]
  },
  {
   "cell_type": "code",
   "execution_count": null,
   "id": "4c5393d0",
   "metadata": {},
   "outputs": [],
   "source": [
    "import numpy as np\n",
    "my_array = np.array([1, 2, 3, 4])\n",
    "result = my_array * 3 + 1   # Operation wird für jedes Element ausgeführt\n",
    "print(result)\n",
    "\n",
    "result = np.sin(my_array)\n",
    "print(result)"
   ]
  },
  {
   "cell_type": "code",
   "execution_count": null,
   "id": "d3acbaa4",
   "metadata": {
    "scrolled": true
   },
   "outputs": [],
   "source": [
    "my_list = [1, 2, 3, 4]\n",
    "result = my_list + my_list  # Mit Listen geht das nicht  \n",
    "print(result)\n",
    "\n",
    "#my_list = [[1, 2], [3, 4]]\n",
    "#my_list[0, 1]"
   ]
  },
  {
   "cell_type": "markdown",
   "id": "34238ef6",
   "metadata": {
    "slideshow": {
     "slide_type": "slide"
    }
   },
   "source": [
    "# Numpy: Array Indexierung\n",
    "\n",
    "- Zugreifen auf ein bestimmtes Element in einem Array\n",
    "- index in **eckigen Klammern**: `numpy_array[index]`\n",
    "\n",
    "- Simpel für **1D Arrays**: "
   ]
  },
  {
   "cell_type": "code",
   "execution_count": null,
   "id": "fcb4014d",
   "metadata": {
    "scrolled": true
   },
   "outputs": [],
   "source": [
    "import numpy as np\n",
    "my_array = np.array([1, 2, 3]) \n",
    "print(my_array[0]) # erstes Element\n",
    "print(my_array[1]) # mittleres Element\n",
    "print(my_array[2]) # letztes Element\n",
    "print(my_array[-2]) # auch letztes Element"
   ]
  },
  {
   "cell_type": "markdown",
   "id": "0cadbc70",
   "metadata": {
    "slideshow": {
     "slide_type": "-"
    }
   },
   "source": [
    "<div style=\"background-color: lightblue; padding: 10px;\">\n",
    "    <h3>Wichtig</h3>\n",
    "    <p> Das erste Element in einem Array hat den Index 0.</p>\n",
    "</div>"
   ]
  },
  {
   "cell_type": "markdown",
   "id": "1f432bca",
   "metadata": {
    "slideshow": {
     "slide_type": "slide"
    }
   },
   "source": [
    "# Numpy: Array Indexierung\n",
    "\n",
    "- Für **2D Arrays**: `my_2d_array[index_axis_0, index_axis_1]`\n",
    "<div>\n",
    "<img src=\"https://philuttley.github.io/prog4aa_lesson2/fig/indexing.png\" width=\"400em\"/>\n",
    "</div>"
   ]
  },
  {
   "cell_type": "code",
   "execution_count": null,
   "id": "a4643e82",
   "metadata": {
    "scrolled": true
   },
   "outputs": [],
   "source": [
    "import numpy as np\n",
    "my_array = np.array([\n",
    "    [1, 2, 3],\n",
    "    [4, 5, 6],\n",
    "    [7, 8, 9]\n",
    "]) \n",
    "print(my_array[0, 0]) # element links oben\n",
    "#\n",
    "print(my_array[2, 2]) # element rechts unten\n",
    "print(my_array[1, 0]) # 2. element in der ersten Spalte"
   ]
  },
  {
   "cell_type": "markdown",
   "id": "1857e049",
   "metadata": {
    "slideshow": {
     "slide_type": "slide"
    }
   },
   "source": [
    "# Numpy: Array Indexierung\n",
    "\n",
    "- **Ausschnitt eines Arrays** mit mehr als einem Element:\n",
    "```python\n",
    "my_1D_array[start_index : end_index]  # Ausschnitt mit \":\" operator \n",
    "```\n"
   ]
  },
  {
   "cell_type": "code",
   "execution_count": null,
   "id": "ef86af14",
   "metadata": {
    "scrolled": true
   },
   "outputs": [],
   "source": [
    "import numpy as np\n",
    "my_array = np.array([1, 2, 3, 4, 5]) \n",
    "print(my_array[0:2])\n",
    "print(my_array[2:]) # weglassen eines index bedeutet alles danach\n",
    "print(my_array[:2]) # oder davor\n",
    "print(my_array[:])"
   ]
  },
  {
   "cell_type": "markdown",
   "id": "b85275b9",
   "metadata": {
    "slideshow": {
     "slide_type": "slide"
    }
   },
   "source": [
    "# Numpy: Array Indexierung\n",
    "\n",
    "- **Ausschnitt eines 2D Arrays** mit mehr als einem Element:\n",
    "```python\n",
    "my_2D_array[start_index_0 : end_index_0, start_index_1 : end_index_1] \n",
    "```\n"
   ]
  },
  {
   "cell_type": "code",
   "execution_count": null,
   "id": "8017415e",
   "metadata": {
    "scrolled": true
   },
   "outputs": [],
   "source": [
    "import numpy as np\n",
    "my_array = np.array([\n",
    "    [1, 2, 3],\n",
    "    [4, 5, 6],\n",
    "    [7, 8, 9]\n",
    "]) \n",
    "print(my_array[0:2, 0:2]) # sub-matrix links oben\n",
    "print(my_array[:, 0])     # erste Spalte\n",
    "print(my_array[1, :])     # zweite Zeile"
   ]
  },
  {
   "cell_type": "markdown",
   "id": "fcdf748b",
   "metadata": {
    "slideshow": {
     "slide_type": "slide"
    }
   },
   "source": [
    "# Numpy: Logische Indexierung\n",
    "\n",
    "- oft gewünscht: Elemente aus einem Array, die eine Bedingung erfüllen\n",
    "- Bsp. alle Elemente die größer sind als ein Schwellenwert"
   ]
  },
  {
   "cell_type": "code",
   "execution_count": null,
   "id": "c1e13d1e",
   "metadata": {
    "scrolled": true
   },
   "outputs": [],
   "source": [
    "import numpy as np\n",
    "my_array = np.array([1, 2, 3, 4])\n",
    "mask = [False, False, True, True] # nur die letzten beiden elemente\n",
    "print(my_array[mask])"
   ]
  },
  {
   "cell_type": "code",
   "execution_count": null,
   "id": "257dc8f9",
   "metadata": {
    "scrolled": true
   },
   "outputs": [],
   "source": [
    "import numpy as np\n",
    "my_array = np.array([1, 2, 3, 4])\n",
    "mask = (my_array > 2.0)  # erstellt liste mit True oder False Werten\n",
    "print(mask)\n",
    "print(my_array[mask])"
   ]
  },
  {
   "cell_type": "code",
   "execution_count": null,
   "id": "cac05aac",
   "metadata": {
    "scrolled": true
   },
   "outputs": [],
   "source": [
    "import numpy as np\n",
    "my_array = np.array([1, 2, 3, 4])\n",
    "print(my_array[my_array > 2.0])  # alles in einem Ausdruck"
   ]
  },
  {
   "cell_type": "markdown",
   "id": "0e90064b",
   "metadata": {
    "slideshow": {
     "slide_type": "slide"
    }
   },
   "source": [
    "# Numpy: Array Dimensionen\n",
    "\n",
    "- Die Form eines Arrays erhält man mit der `numpy.shape` Funktion\n",
    "- Es wird eine Tupel mit den Längen der jeweiligen Dimensionen zurückgegeben "
   ]
  },
  {
   "cell_type": "code",
   "execution_count": null,
   "id": "bf2dda0b",
   "metadata": {
    "scrolled": true
   },
   "outputs": [],
   "source": [
    "import numpy as np\n",
    "my_array = np.array([1, 2, 3, 4, 5]) # 1D Array\n",
    "my_shape = np.shape(my_array)\n",
    "print(my_shape)\n",
    "print(f\"Der Array hat die Länge {my_shape[0]}.\")"
   ]
  },
  {
   "cell_type": "code",
   "execution_count": null,
   "id": "759ef632",
   "metadata": {
    "scrolled": true
   },
   "outputs": [],
   "source": [
    "import numpy as np\n",
    "my_array = np.array([\n",
    "    [1, 2, 3],\n",
    "    [4, 5, 6],\n",
    "    [7, 8, 9]\n",
    "]) \n",
    "my_shape = np.shape(my_array)\n",
    "print(my_shape)\n",
    "print(f\"Der Array hat die Form {my_shape[0]} mal {my_shape[1]}.\")"
   ]
  },
  {
   "cell_type": "markdown",
   "id": "7de553de",
   "metadata": {
    "slideshow": {
     "slide_type": "slide"
    }
   },
   "source": [
    "# Numpy: Array aus Datei einlesen\n",
    "\n",
    "- Mit der Funktion `numpy.loadtxt` ist es möglich Textdateien zu laden\n",
    "```python \n",
    "my_array = np.loadtxt(\"my_txt_file.txt\")\n",
    "```\n",
    "- optionale Argumente helfen beim einlesen\n",
    "```python\n",
    "# einlesen von komma-separierten text file, nur die ersten beiden Spalten\n",
    "my_array = np.loadtxt(\"my_txt_file.csv\", delimiter=',', usecols=(0, 1))\n",
    "```"
   ]
  },
  {
   "cell_type": "code",
   "execution_count": null,
   "id": "9b677dea",
   "metadata": {
    "scrolled": true
   },
   "outputs": [],
   "source": [
    "import numpy as np\n",
    "\"\"\"\n",
    "Inhalt der Textdatei test.txt:\n",
    "\n",
    "1.0 2.0 3.0\n",
    "4.0 5.0 6.0\n",
    "7.0 8.0 9.0\n",
    "\"\"\"\n",
    "\n",
    "my_array = np.loadtxt(\"test.txt\", usecols=(0))\n",
    "print(my_array)"
   ]
  },
  {
   "cell_type": "markdown",
   "id": "f90f534e",
   "metadata": {
    "slideshow": {
     "slide_type": "slide"
    }
   },
   "source": [
    "# Numpy: Funktionen und Arrays\n",
    "- numpy stellt sehr viele mathematische Funktionen bereit\n",
    "- Beispiele einiger Funktionen:"
   ]
  },
  {
   "cell_type": "code",
   "execution_count": null,
   "id": "870c1593",
   "metadata": {
    "scrolled": true
   },
   "outputs": [],
   "source": [
    "import numpy as np\n",
    "my_array = np.array([-2, -1, 1, 2])\n",
    "\n",
    "print(np.sin(my_array))           # trigonometrische Funktionen\n",
    "print(np.sum(my_array))          # Summe aller Elemente\n",
    "print(np.abs(my_array))          # absolut Wert aller Elemente\n",
    "print(np.log(np.abs(my_array)))  # Logarithmus\n",
    "print(np.amax(my_array))         # Maximum aller Elementen\n",
    "print(np.amin(my_array))         # Minimum aller Elemente\n",
    "print(np.mean(my_array))         # Mittelwert \n",
    "print(np.trapz(my_array))        # numerische Integration mit trapez-regel\n",
    "print(np.dot(my_array, my_array)) # Skalarprodukt\n"
   ]
  },
  {
   "cell_type": "markdown",
   "id": "8412f232",
   "metadata": {
    "slideshow": {
     "slide_type": "slide"
    }
   },
   "source": [
    "# Numpy: Achtung bei Array Kopien!\n"
   ]
  },
  {
   "cell_type": "code",
   "execution_count": null,
   "id": "f539478c",
   "metadata": {
    "scrolled": true
   },
   "outputs": [],
   "source": [
    "import numpy as np\n",
    "import copy\n",
    "a = np.array([1, 1, 1])\n",
    "b = a + 1\n",
    "b[0] = 2\n",
    "print(a, b)"
   ]
  },
  {
   "cell_type": "markdown",
   "id": "9ea41d77",
   "metadata": {
    "slideshow": {
     "slide_type": "-"
    }
   },
   "source": [
    "**Grund:** Python speichert  alles als Objekte. Mit `b = a` enthält die variable `b` die Referenz zu dem Objekt der Variable `a`, aber kein neues Objekt wird erzeugt.\n",
    "\n",
    "**Workaround:**\n",
    "```python \n",
    "import numpy as np \n",
    "import copy\n",
    "b = copy.deepcopy(a)\n",
    "```\n"
   ]
  },
  {
   "cell_type": "markdown",
   "id": "81556a45",
   "metadata": {
    "slideshow": {
     "slide_type": "slide"
    }
   },
   "source": [
    "# Numpy: Übung\n",
    "<div>\n",
    "<img src=\"exercise_numpy.png\" width=\"600em\"/>\n",
    "</div>\n",
    "\n",
    "[Link zur Übung](https://colab.research.google.com/drive/1-ul8g07r9euDx_uEHXqD-6Wwr4peMsT5?usp=sharing)"
   ]
  },
  {
   "cell_type": "markdown",
   "id": "fdc1331c",
   "metadata": {
    "slideshow": {
     "slide_type": "slide"
    }
   },
   "source": [
    "# Matplotlib"
   ]
  },
  {
   "cell_type": "markdown",
   "id": "022d9c5e",
   "metadata": {
    "slideshow": {
     "slide_type": "slide"
    }
   },
   "source": [
    "# Matplotlib: Overview\n",
    "![](https://miro.medium.com/v2/resize:fit:9450/1*OAFEIg9w1XHyZk0xBud14A.png)"
   ]
  },
  {
   "cell_type": "markdown",
   "id": "507517ce",
   "metadata": {
    "slideshow": {
     "slide_type": "slide"
    }
   },
   "source": [
    "## Matplotlib vs Origin und Excel\n",
    "\n",
    "- **Nachteile von Matplotlib** gegenüber Origin und Excel:\n",
    "    - Programmierkenntnisse erforderlich\n",
    "    - etwas flachere Lernkurve\n",
    "- **Vorteile von Matplotlib** gegenüber Origin und Excel:\n",
    "    - Open source (kostenlos nutzbar)\n",
    "    - mehr Funktionen als in Origin und Excel\n",
    "    - große Datensätze kein Problem\n",
    "    - Automatisierung\n",
    "    - Wiederverwendbarkeit\n",
    "    - sieht professioneller aus"
   ]
  },
  {
   "cell_type": "markdown",
   "id": "96735d98",
   "metadata": {
    "slideshow": {
     "slide_type": "slide"
    }
   },
   "source": [
    "## Matplotlib: Einfacher Plot\n",
    "- [Dokumentation von `plt.plot()`](https://matplotlib.org/stable/api/_as_gen/matplotlib.pyplot.plot.html)"
   ]
  },
  {
   "cell_type": "code",
   "execution_count": null,
   "id": "a92e3456",
   "metadata": {
    "scrolled": false
   },
   "outputs": [],
   "source": [
    "import numpy as np\n",
    "import matplotlib.pyplot as plt # importieren der matplotlib bibliothek\n",
    "\n",
    "# Sinuskurve\n",
    "x = np.linspace(0.0, 4.0*np.pi, 100)\n",
    "y = np.sin(x)\n",
    "\n",
    "plt.plot(x, y) # zeichnet den graphen\n",
    "plt.show()     # erzeugt den gesamt-plot"
   ]
  },
  {
   "cell_type": "markdown",
   "id": "cd0ea1df",
   "metadata": {
    "slideshow": {
     "slide_type": "slide"
    }
   },
   "source": [
    "## Matplotlib: Einfaches Säulendiagramm\n",
    "- [Dokumentation `plt.bar()`](https://matplotlib.org/stable/api/_as_gen/matplotlib.pyplot.bar.html)"
   ]
  },
  {
   "cell_type": "code",
   "execution_count": null,
   "id": "1861fc52",
   "metadata": {
    "scrolled": false
   },
   "outputs": [],
   "source": [
    "import numpy as np\n",
    "import matplotlib.pyplot as plt # importieren der matplotlib bibliothek\n",
    "\n",
    "# Exponentialfunktion\n",
    "x = np.arange(0, 10, 1)\n",
    "y = np.exp(x)\n",
    "\n",
    "plt.bar(x, y) # zeichnet die Säulen\n",
    "plt.show()     # erzeugt den gesamt-plot"
   ]
  },
  {
   "cell_type": "markdown",
   "id": "46c8fb97",
   "metadata": {
    "slideshow": {
     "slide_type": "slide"
    }
   },
   "source": [
    "## Matplotlib: mehrere Plots mit Legende"
   ]
  },
  {
   "cell_type": "code",
   "execution_count": null,
   "id": "c9e80e19",
   "metadata": {
    "scrolled": true
   },
   "outputs": [],
   "source": [
    "import numpy as np\n",
    "import matplotlib.pyplot as plt # importieren der matplotlib bibliothek\n",
    "\n",
    "# Sinuskurve\n",
    "x = np.linspace(0.0, 2.0*np.pi, 100)\n",
    "y_sin = np.sin(x)\n",
    "y_cos = np.cos(x)\n",
    "\n",
    "plt.plot(x, y_sin, label=\"sin(x)\") # zeichnet den graphen\n",
    "plt.plot(x, y_cos, label=\"cos(y)\")\n",
    "\n",
    "plt.legend(fontsize=16) # erstellt die legende\n",
    "\n",
    "plt.show()     # erzeugt den gesamt-plot"
   ]
  },
  {
   "cell_type": "markdown",
   "id": "1479ec4e",
   "metadata": {
    "slideshow": {
     "slide_type": "slide"
    }
   },
   "source": [
    "## Matplotlib: Achsenbeschriftung"
   ]
  },
  {
   "cell_type": "code",
   "execution_count": null,
   "id": "f24153e3",
   "metadata": {
    "scrolled": true
   },
   "outputs": [],
   "source": [
    "import numpy as np\n",
    "import matplotlib.pyplot as plt # importieren der matplotlib bibliothek\n",
    "\n",
    "# Sinuskurve\n",
    "x = np.linspace(0.0, 2.0*np.pi, 100)\n",
    "y_sin = np.sin(x)\n",
    "plt.plot(x, y_sin) # zeichnet den graphen\n",
    "\n",
    "\"\"\" erstellt die Beschriftung \"\"\"\n",
    "plt.xlabel(\"x\", fontsize=18)\n",
    "plt.ylabel(\"sin(x)\", fontsize=18)\n",
    "plt.title(\"Die Sinusfunktion\", fontsize=18, fontweight=\"bold\")\n",
    "\n",
    "plt.show()     # erzeugt den gesamt-plot"
   ]
  },
  {
   "cell_type": "markdown",
   "id": "c1801021",
   "metadata": {
    "slideshow": {
     "slide_type": "slide"
    }
   },
   "source": [
    "## Matplotlib: Achsen Grenzen und Skalierung"
   ]
  },
  {
   "cell_type": "code",
   "execution_count": null,
   "id": "e683deef",
   "metadata": {
    "scrolled": true
   },
   "outputs": [],
   "source": [
    "import numpy as np\n",
    "import matplotlib.pyplot as plt # importieren der matplotlib bibliothek\n",
    "\n",
    "# Exponentialfunktion\n",
    "x = np.linspace(0.0, 5, 100)\n",
    "y = np.exp(x)\n",
    "\n",
    "plt.plot(x, y) # zeichnet den graphen\n",
    "\n",
    "\"\"\" gibt die Grenzen der Achse an \"\"\"\n",
    "plt.xlim(left=0.0, right=5) \n",
    "plt.ylim(bottom=0.001, top=160)\n",
    "\n",
    "\"\"\" Skalierung der Achse (logarithmisch oder normal)\"\"\"\n",
    "plt.yscale(\"log\")\n",
    "\n",
    "plt.show()     # erzeugt den gesamt-plot"
   ]
  },
  {
   "cell_type": "markdown",
   "id": "b7200fb6",
   "metadata": {
    "slideshow": {
     "slide_type": "slide"
    }
   },
   "source": [
    "## Matplotlib: Plot Einstellungen\n",
    "\n",
    "- für mehr einstellungen: **Matplotlib website besuchen**\n",
    "- [Farben in Matplotlib](https://matplotlib.org/stable/gallery/color/named_colors.html)\n",
    "- [Dokumentation von `plt.plot()`](https://matplotlib.org/stable/api/_as_gen/matplotlib.pyplot.plot.html)"
   ]
  },
  {
   "cell_type": "code",
   "execution_count": null,
   "id": "a41847f0",
   "metadata": {
    "scrolled": false
   },
   "outputs": [],
   "source": [
    "import numpy as np\n",
    "import matplotlib.pyplot as plt # importieren der matplotlib bibliothek\n",
    "\n",
    "# Exponentialfunktion\n",
    "x = np.linspace(0.0, 5, 50)\n",
    "y = np.exp(x)\n",
    "\n",
    "\"\"\" optionale Argumente für die Darstellung des Graphen\"\"\"\n",
    "plt.plot(x, y, linestyle=\":\", color='red', marker=\"+\")\n",
    "\n",
    "plt.show()     # erzeugt den gesamt-plot"
   ]
  },
  {
   "cell_type": "markdown",
   "id": "10913101",
   "metadata": {
    "slideshow": {
     "slide_type": "slide"
    }
   },
   "source": [
    "## Matplotlib: Übung\n",
    "<div>\n",
    "<img src=\"matplotlib_exercise.png\" width=\"600em\"/>\n",
    "</div>\n",
    "\n",
    "[Link zur Übung](https://colab.research.google.com/drive/1zH8B-62q5zENh-8g0hLDLOw7ui_5J3J7?usp=sharing)"
   ]
  },
  {
   "cell_type": "markdown",
   "id": "938be567",
   "metadata": {
    "slideshow": {
     "slide_type": "slide"
    }
   },
   "source": [
    "## Matplotlib: Plot speichern\n",
    "\n",
    "- **interaktiv** \n",
    "    - \"Speichern\" Button drücken\n",
    "    - rechts unten im Plot-Fenster\n",
    "- **im Skript**\n",
    "    - mit `plt.savefig(\"filename.ending\")` speichern\n",
    "    - `\"ending\"` kann `\"png\"`, `\"jpg\"`, `\"svg\"`, `\"pdf\"` und vieles mehr sein\n",
    "    - bei Pixelgraphiken (z.B. \"png\"): Auflösung mit Argument `dpi`  "
   ]
  },
  {
   "cell_type": "code",
   "execution_count": null,
   "id": "1f0495b8",
   "metadata": {
    "scrolled": true
   },
   "outputs": [],
   "source": [
    "import numpy as np\n",
    "import matplotlib.pyplot as plt # importieren der matplotlib bibliothek\n",
    "\n",
    "# Exponentialfunktion\n",
    "x = np.linspace(0.0, 5, 50)\n",
    "y = np.exp(x)\n",
    "plt.plot(x, y)\n",
    "\n",
    "plt.savefig(\"exp_funktion.png\", dpi=200)\n",
    "plt.show()"
   ]
  },
  {
   "cell_type": "markdown",
   "id": "2426eed1",
   "metadata": {
    "slideshow": {
     "slide_type": "slide"
    }
   },
   "source": [
    "## Matplotlib: Größe der Abbildung\n",
    "- Alle Einstellungen zur Abbildung mit der Funktion `plt.figure()`\n",
    "- die Größe wird mit dem Keyword Argument `figsize=(with, height)` übergeben\n",
    "- Maßeinheit is Zoll"
   ]
  },
  {
   "cell_type": "code",
   "execution_count": null,
   "id": "c9e1f76e",
   "metadata": {
    "scrolled": true
   },
   "outputs": [],
   "source": [
    "import numpy as np\n",
    "import matplotlib.pyplot as plt # importieren der matplotlib bibliothek\n",
    "\n",
    "# Sinus und Cosinus\n",
    "x = np.linspace(0.0, 2.0*np.pi, 200)\n",
    "y_sin = np.sin(x)\n",
    "\n",
    "plt.figure(figsize=(6.4, 4.8)) # ändert die Größe des Plots, default: 6.4x4.8 Zoll\n",
    "\n",
    "plt.plot(x, y_sin)\n",
    "\n",
    "plt.show()"
   ]
  },
  {
   "cell_type": "markdown",
   "id": "bf0af02c",
   "metadata": {
    "slideshow": {
     "slide_type": "slide"
    }
   },
   "source": [
    "## Matplotlib: Subplots\n",
    "\n",
    "- mehrere Plots in einer Abbildung \n",
    "- Gitter von Plots: (Anzahl Plots vertical) x (Anzahl Plots horizontal)\n",
    "    - [komplexere Anordnung auch möglich](https://matplotlib.org/stable/users/explain/axes/arranging_axes.html)\n",
    "- erzeugen von einem Subplot: `plt.subplot(id)` \n",
    "- `id` ist dreistellige Zahl: \n",
    "    - 1. Stelle: Anzahl Plots vertical\n",
    "    - 2. Stelle: Anzahl Plots horizontal\n",
    "    - 3. Stelle: Nummer des Plots\n",
    "    \n",
    "- Bsp. `plt.subplot(235)`\n",
    "![](subplots.svg)"
   ]
  },
  {
   "cell_type": "code",
   "execution_count": null,
   "id": "4ef3dc09",
   "metadata": {
    "scrolled": true,
    "slideshow": {
     "slide_type": "skip"
    }
   },
   "outputs": [],
   "source": [
    "import numpy as np\n",
    "import matplotlib.pyplot as plt # importieren der matplotlib bibliothek\n",
    "\n",
    "# Sinus und Cosinus\n",
    "x = np.linspace(0.0, 2.0*np.pi, 200)\n",
    "y_sin = np.sin(x)\n",
    "y_cos = np.cos(x)\n",
    "\n",
    "#plt.figure(figsize=(12.8, 4.8)) # ändert die Größe des Plots, default: 6.4x4.8 zoll\n",
    "\n",
    "plt.subplot(231)     # plot Gitter 1x2, 1. Plot\n",
    "plt.subplot(232)    # plot Gitter 1x2, 2. Plot\n",
    "plt.subplot(233)\n",
    "plt.subplot(234)\n",
    "plt.subplot(235, fc='blue')\n",
    "plt.subplot(236)\n",
    "plt.tight_layout()  # verhindert Überlagerung, löscht \"whitespace\" \n",
    "plt.savefig(\"subplots.svg\")"
   ]
  },
  {
   "cell_type": "markdown",
   "id": "2d5a4b14",
   "metadata": {
    "slideshow": {
     "slide_type": "slide"
    }
   },
   "source": [
    "## Matplotlib: Subplots"
   ]
  },
  {
   "cell_type": "code",
   "execution_count": null,
   "id": "cd29e314",
   "metadata": {
    "scrolled": true
   },
   "outputs": [],
   "source": [
    "import numpy as np\n",
    "import matplotlib.pyplot as plt # importieren der matplotlib bibliothek\n",
    "\n",
    "# Sinus und Cosinus\n",
    "x = np.linspace(0.0, 2.0*np.pi, 200)\n",
    "y_sin = np.sin(x)\n",
    "y_cos = np.cos(x)\n",
    "\n",
    "plt.figure(figsize=(12.8, 4.8)) # ändert die Größe des Plots, default: 6.4x4.8 zoll\n",
    "\n",
    "plt.subplot(121)     # plot Gitter 1x2, 1. Plot\n",
    "plt.plot(x, y_sin)\n",
    "plt.xlabel(\"x\")\n",
    "\n",
    "plt.subplot(122)    # plot Gitter 1x2, 2. Plot\n",
    "plt.plot(x, y_cos)\n",
    "\n",
    "plt.tight_layout()  # verhindert Überlagerung, löscht \"whitespace\" \n",
    "plt.show()"
   ]
  },
  {
   "cell_type": "markdown",
   "id": "10ca963e",
   "metadata": {
    "slideshow": {
     "slide_type": "slide"
    }
   },
   "source": [
    "## Matplotlib: Mehrere Abbildungen in einem Skript\n",
    "- mehrere Abbildungen in einem Skript: Abbildungen müssen geschlossen werden\n",
    "- nach jedem `plt.show()`: `plt.close(\"all\")`\n",
    "- verhindert das Überfüllen des Arbeitsspeichers (RAM) "
   ]
  },
  {
   "cell_type": "code",
   "execution_count": null,
   "id": "a14be104",
   "metadata": {
    "scrolled": true
   },
   "outputs": [],
   "source": [
    "import numpy as np\n",
    "import matplotlib.pyplot as plt # importieren der matplotlib bibliothek\n",
    "\n",
    "# Sinus und Cosinus\n",
    "x = np.linspace(0.0, 2.0*np.pi, 200)\n",
    "y_sin = np.sin(x)\n",
    "y_cos = np.cos(x)\n",
    "\n",
    "plt.plot(x, y_sin)\n",
    "plt.show()\n",
    "plt.close('all')\n",
    "\n",
    "plt.plot(x, y_cos)\n",
    "plt.show()"
   ]
  },
  {
   "cell_type": "markdown",
   "id": "1c34bea9",
   "metadata": {
    "slideshow": {
     "slide_type": "slide"
    }
   },
   "source": [
    "# Scipy"
   ]
  },
  {
   "cell_type": "markdown",
   "id": "9f7441a9",
   "metadata": {
    "slideshow": {
     "slide_type": "slide"
    }
   },
   "source": [
    "## Scipy: Überblick\n",
    "\n",
    "- Wissenschaftliche Bibliothek in Python, die auf NumPy aufbaut und erweiterte Funktionen für technische und wissenschaftliche Berechnungen bietet.\n",
    "- **Untermodule**:\n",
    "  - `scipy.constants`: Physikalische und mathematische Konstanten.\n",
    "  - `scipy.fft`: Fourier-Transformationen.\n",
    "  - `scipy.integrate`: Integrationstechniken (z.B. quad, odeint).\n",
    "  - `scipy.interpolate`: Interpolation und Spline-Anpassung.\n",
    "  - `scipy.linalg`: Lineare Algebra (erweitert NumPy's `linalg`).\n",
    "  - `scipy.optimize`: Optimierung und Wurzelsuche (z.B. `minimize`, `curve_fit`).\n",
    "  - `scipy.signal`: Signalverarbeitung (z.B. Filterung, Signaltransformation).\n",
    "  - `scipy.sparse`: Arbeiten mit spärlichen Matrizen.\n",
    "  - `scipy.spatial`: Berechnungen in der räumlichen Geometrie (z.B. Distanzen, Delaunay-Triangulation).\n",
    "  - `scipy.stats`: Statistische Berechnungen (z.B. Wahrscheinlichkeitsverteilungen, Tests).\n",
    "- **Verwendung**:\n",
    "  - Hauptsächlich für numerische Berechnungen in Bereichen wie Physik, Chemie, Ingenieurwesen und Statistik.\n",
    "  - Optimierung von Funktionen und Datenanalyse."
   ]
  },
  {
   "cell_type": "markdown",
   "id": "373ff619",
   "metadata": {
    "slideshow": {
     "slide_type": "slide"
    }
   },
   "source": [
    "## Scipy Beispiel: Lineare Regression\n",
    "\n",
    "- mit der Funktion:\n",
    "```python\n",
    "slope, intercept, r_value, p_value, std_err = scipy.stats.linregress(x, y)\n",
    "```\n",
    "- Rückgabewerte:\n",
    "    - `slope`: Anstieg\n",
    "    - `intercept`: Achsenabschnitt\n",
    "    - `r_value`: Pearson-Korrelationskoeffizient (Bestimmtheitsmaß: `r_vale**2`)"
   ]
  },
  {
   "cell_type": "code",
   "execution_count": null,
   "id": "d2e430c8",
   "metadata": {
    "slideshow": {
     "slide_type": "-"
    }
   },
   "outputs": [],
   "source": [
    "import numpy as np\n",
    "import scipy as sc\n",
    "\n",
    "# Beispiel-Daten generieren\n",
    "x = np.linspace(0, 10, 50)\n",
    "y = 2 * x + 1 + np.random.normal(0, 1, x.size) # y = 2x +1 mit Rauschen\n",
    "\n",
    "# Lineare Regression berechnen\n",
    "slope, intercept, r_value, p_value, std_err = sc.stats.linregress(x, y)\n",
    "\n",
    "print(f\"Steigung: {slope:.2f}\\nAchsenabschnitt: {intercept:.2f}\\nR^2: {r_value**2:.2f}\")"
   ]
  },
  {
   "cell_type": "markdown",
   "id": "cb5c938e",
   "metadata": {
    "slideshow": {
     "slide_type": "slide"
    }
   },
   "source": [
    "## Scipy: Lineare Regression Plotten"
   ]
  },
  {
   "cell_type": "code",
   "execution_count": null,
   "id": "4478dde7",
   "metadata": {},
   "outputs": [],
   "source": [
    "import numpy as np\n",
    "import scipy as sc\n",
    "import matplotlib.pyplot as plt\n",
    "\n",
    "# Beispiel-Daten generieren\n",
    "x = np.linspace(0, 10, 50)\n",
    "y = 2 * x + 1 + np.random.normal(0, 1, x.size) # y = 2x +1 mit Rauschen\n",
    "\n",
    "# Lineare Regression berechnen\n",
    "slope, intercept, r_value, p_value, std_err = sc.stats.linregress(x, y)\n",
    "print(f\"Steigung: {slope:.2f}\\nAchsenabschnitt: {intercept:.2f}\\nR^2: {r_value**2:.2f}\")\n",
    "\n",
    "plt.plot(x, y, color='black', linestyle='', marker='o')\n",
    "plt.plot(x, slope * x + intercept, color='red')\n",
    "plt.show()"
   ]
  },
  {
   "cell_type": "markdown",
   "id": "d3520854",
   "metadata": {
    "slideshow": {
     "slide_type": "slide"
    }
   },
   "source": [
    "# Zusammenfassung\n",
    "\n",
    "- **Numpy**: Daten laden, Array-Operationen, mathematische Funktionen\n",
    "- **Matplotlib**: Abbildungen erstellen\n",
    "- **Scipy**: komplexere mathematische/physikalische Probleme\n",
    "- **Übung macht den Meister**\n",
    "    - manchmal Excel mit Python ersetzen "
   ]
  }
 ],
 "metadata": {
  "celltoolbar": "Slideshow",
  "kernelspec": {
   "display_name": "Python 3 (ipykernel)",
   "language": "python",
   "name": "python3"
  },
  "language_info": {
   "codemirror_mode": {
    "name": "ipython",
    "version": 3
   },
   "file_extension": ".py",
   "mimetype": "text/x-python",
   "name": "python",
   "nbconvert_exporter": "python",
   "pygments_lexer": "ipython3",
   "version": "3.11.9"
  },
  "rise": {
   "scroll": true
  }
 },
 "nbformat": 4,
 "nbformat_minor": 5
}
