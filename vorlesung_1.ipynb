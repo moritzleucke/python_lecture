{
 "cells": [
  {
   "cell_type": "markdown",
   "id": "17e3732c-63e6-4fae-9a1e-529a4810a6d2",
   "metadata": {
    "jp-MarkdownHeadingCollapsed": true,
    "slideshow": {
     "slide_type": "slide"
    },
    "tags": []
   },
   "source": [
    "# Einführung in gute Programmierung mit Python "
   ]
  },
  {
   "cell_type": "markdown",
   "id": "1b38b8b8",
   "metadata": {},
   "source": [
    "Vorlesung Theoretische Chemie (WiSe 2024/2025) "
   ]
  },
  {
   "cell_type": "markdown",
   "id": "407fa0d1-483e-48bb-a20f-7f79957870ca",
   "metadata": {
    "slideshow": {
     "slide_type": "slide"
    }
   },
   "source": [
    "# Motivation\n",
    "\n",
    "- coole Plots\n",
    "- schnelle Datenevaluation\n",
    "- Beispiele Matplotlib (Animation)\n",
    "- Teilchen im 2D/3D-Kasten\n",
    "\n"
   ]
  },
  {
   "cell_type": "markdown",
   "id": "f010382f",
   "metadata": {
    "slideshow": {
     "slide_type": "slide"
    }
   },
   "source": [
    "# Vorwort \n",
    "\n",
    "- wir machen einfaches python\n",
    "- Verständlichkeit > Genauigkeit\n",
    "- Einfachheit > Performance\n",
    "- Grundlagen legen und Luft nach oben lassen\n",
    "- Alles im Internet findbar\n",
    "- Fehlermeldungen sind Freunde, keine Feinde\n",
    "- Fehler einbauen und Fehlermeldungen erläutern\n"
   ]
  },
  {
   "cell_type": "markdown",
   "id": "da553d4e",
   "metadata": {
    "slideshow": {
     "slide_type": "slide"
    }
   },
   "source": [
    "# Basics\n",
    "\n",
    "- file mit Python Programm: `my_script.py`\n",
    "- ended immer mit `.py`\n",
    "- ausführen des programms in der Shell (Linux):\n",
    "\n",
    "    ```bash\n",
    "    $ python my_scipt.py\n",
    "    ```\n",
    "\n"
   ]
  },
  {
   "cell_type": "markdown",
   "id": "4a9c5d37",
   "metadata": {
    "slideshow": {
     "slide_type": "slide"
    }
   },
   "source": [
    "# Basics: Variablen \n",
    "\n",
    "Variablen definieren:\n"
   ]
  },
  {
   "cell_type": "code",
   "execution_count": null,
   "id": "4634523a",
   "metadata": {},
   "outputs": [],
   "source": [
    "meine_variable = 1"
   ]
  },
  {
   "cell_type": "markdown",
   "id": "788306a8",
   "metadata": {},
   "source": [
    "Variable ausgeben: "
   ]
  },
  {
   "cell_type": "code",
   "execution_count": null,
   "id": "7d725ee1",
   "metadata": {},
   "outputs": [],
   "source": [
    "print(meine_variable)"
   ]
  },
  {
   "cell_type": "markdown",
   "id": "f4d13f6f",
   "metadata": {
    "slideshow": {
     "slide_type": "slide"
    }
   },
   "source": [
    "# Basics: Variablen \n",
    "\n",
    "Conventionen:\n",
    "- Unterscheidung in groß und kleinschreibung (`omega`, `Omega`, ...)\n",
    "- erlaubte symbole: `a`, ... `z`,  `0`, ..., `9`, und `_` (**nicht:** `-`)\n",
    "- erstes symbol in in variable muss Buchstabe sein (richtig: `omega_1`, falsch: `1_omega`)"
   ]
  },
  {
   "cell_type": "markdown",
   "id": "102e6ac3",
   "metadata": {
    "slideshow": {
     "slide_type": "slide"
    }
   },
   "source": [
    "# Basics: Variablen mit Zahlen\n",
    "\n",
    "Unterschiedliche Arten von Zahlen:"
   ]
  },
  {
   "cell_type": "code",
   "execution_count": null,
   "id": "5ba64dde",
   "metadata": {},
   "outputs": [],
   "source": [
    "# integer (Ganzzahl)\n",
    "a = 1\n",
    "b = -5\n",
    "c = 0\n",
    "print(a, b, c)\n",
    "\n",
    "# float (Gleitkommazahl)\n",
    "d = 3.1415\n",
    "e = 3.5e-20    # 3.5 * 10^(-20)\n",
    "print(d, e)"
   ]
  },
  {
   "cell_type": "markdown",
   "id": "227fe08f",
   "metadata": {
    "slideshow": {
     "slide_type": "slide"
    }
   },
   "source": [
    "# Basics: Variablen mit Zahlen\n",
    "\n",
    "Mathematische Operationen:"
   ]
  },
  {
   "cell_type": "code",
   "execution_count": null,
   "id": "9c916db4",
   "metadata": {},
   "outputs": [],
   "source": [
    "a = 3.0\n",
    "b = 13\n",
    "\n",
    "# Addition:\n",
    "add = a + b\n",
    "\n",
    "# Subtraktion:\n",
    "sub = a - b\n",
    "\n",
    "# multiplication\n",
    "mul = a * b\n",
    "\n",
    "# division \n",
    "div = a / b\n",
    "\n",
    "# exponent \n",
    "power = a**b\n",
    "\n",
    "print(add, sub, mul, div, power)"
   ]
  }
 ],
 "metadata": {
  "celltoolbar": "Slideshow",
  "kernelspec": {
   "display_name": "Python 3 (ipykernel)",
   "language": "python",
   "name": "python3"
  },
  "language_info": {
   "codemirror_mode": {
    "name": "ipython",
    "version": 3
   },
   "file_extension": ".py",
   "mimetype": "text/x-python",
   "name": "python",
   "nbconvert_exporter": "python",
   "pygments_lexer": "ipython3",
   "version": "3.11.9"
  }
 },
 "nbformat": 4,
 "nbformat_minor": 5
}
