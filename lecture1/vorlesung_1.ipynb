{
 "cells": [
  {
   "cell_type": "code",
   "execution_count": 1,
   "id": "96e5a8ed-c714-4283-95e8-f728db0ce0a1",
   "metadata": {
    "editable": true,
    "slideshow": {
     "slide_type": "slide"
    },
    "tags": []
   },
   "outputs": [
    {
     "name": "stderr",
     "output_type": "stream",
     "text": [
      "/tmp/ipykernel_79417/3156508906.py:1: DeprecationWarning: Importing display from IPython.core.display is deprecated since IPython 7.14, please import from IPython.display\n",
      "  from IPython.core.display import display, HTML\n"
     ]
    },
    {
     "data": {
      "text/html": [
       "\n",
       "<style>\n",
       "    /* Globale Stildefinitionen für RISE */\n",
       "     /* Schriftgröße für den Code in Codezellen erhöhen */\n",
       "    .reveal .input_area p {\n",
       "        font-size: 3.5em !important; /* Ändert die Schriftgröße für den Code */\n",
       "    }\n",
       "    .reveal .output_area {\n",
       "        font-size: 3.5em !important; /* Ändert die Schriftgröße für den Output */\n",
       "    }\n",
       "    /* Optional: Padding und Margins anpassen */\n",
       "    .reveal input_area, .reveal output_area {\n",
       "        padding: 10px; /* Fügt mehr Innenabstand hinzu */\n",
       "        margin: 10px; /* Fügt mehr Außenabstand hinzu */\n",
       "    }\n",
       "    .reveal p {\n",
       "    font-size: 1.5em; /* Ändert die Schriftgröße für Fließtext */\n",
       "}\n",
       " /* Globale Stildefinitionen für RISE */\n",
       "    .reveal table {\n",
       "        width: 100%; /* Ändert die Breite der Tabelle auf 100% */\n",
       "        font-size: 1.5em !important; /* Ändert die Schriftgröße innerhalb der Tabelle */\n",
       "    }\n",
       "    .reveal th, .reveal td {\n",
       "        padding: 10px; /* Fügt Innenabstand zu den Zellen hinzu */\n",
       "        text-align: left; /* Ausrichtung des Textes in den Zellen */\n",
       "    }\n",
       "</style>\n"
      ],
      "text/plain": [
       "<IPython.core.display.HTML object>"
      ]
     },
     "metadata": {},
     "output_type": "display_data"
    }
   ],
   "source": [
    "from IPython.core.display import display, HTML\n",
    "\n",
    "display(HTML('''\n",
    "<style>\n",
    "    /* Globale Stildefinitionen für RISE */\n",
    "     /* Schriftgröße für den Code in Codezellen erhöhen */\n",
    "    .reveal .input_area p {\n",
    "        font-size: 3.5em !important; /* Ändert die Schriftgröße für den Code */\n",
    "    }\n",
    "    .reveal .output_area {\n",
    "        font-size: 3.5em !important; /* Ändert die Schriftgröße für den Output */\n",
    "    }\n",
    "    /* Optional: Padding und Margins anpassen */\n",
    "    .reveal input_area, .reveal output_area {\n",
    "        padding: 10px; /* Fügt mehr Innenabstand hinzu */\n",
    "        margin: 10px; /* Fügt mehr Außenabstand hinzu */\n",
    "    }\n",
    "    .reveal p {\n",
    "    font-size: 1.5em; /* Ändert die Schriftgröße für Fließtext */\n",
    "}\n",
    " /* Globale Stildefinitionen für RISE */\n",
    "    .reveal table {\n",
    "        width: 100%; /* Ändert die Breite der Tabelle auf 100% */\n",
    "        font-size: 1.5em !important; /* Ändert die Schriftgröße innerhalb der Tabelle */\n",
    "    }\n",
    "    .reveal th, .reveal td {\n",
    "        padding: 10px; /* Fügt Innenabstand zu den Zellen hinzu */\n",
    "        text-align: left; /* Ausrichtung des Textes in den Zellen */\n",
    "    }\n",
    "</style>\n",
    "'''))"
   ]
  },
  {
   "cell_type": "markdown",
   "id": "17e3732c-63e6-4fae-9a1e-529a4810a6d2",
   "metadata": {
    "editable": true,
    "slideshow": {
     "slide_type": "slide"
    },
    "tags": []
   },
   "source": [
    "### Einführung in (gute) Programmierung mit Python "
   ]
  },
  {
   "cell_type": "markdown",
   "id": "1b38b8b8",
   "metadata": {
    "editable": true,
    "slideshow": {
     "slide_type": ""
    },
    "tags": []
   },
   "source": [
    "Vorlesung Theoretische Chemie (WiSe 2024/2025) "
   ]
  },
  {
   "cell_type": "markdown",
   "id": "407fa0d1-483e-48bb-a20f-7f79957870ca",
   "metadata": {
    "editable": true,
    "slideshow": {
     "slide_type": "slide"
    },
    "tags": []
   },
   "source": [
    "# Motivation\n",
    "- coole Plots\n",
    "- schnelle Datenevaluation\n",
    "- Beispiele Matplotlib (Animation)\n",
    "- Teilchen im 2D/3D-Kasten"
   ]
  },
  {
   "cell_type": "markdown",
   "id": "000a6b0b-238b-4147-9664-eacdf33ec0ad",
   "metadata": {
    "editable": true,
    "slideshow": {
     "slide_type": "slide"
    },
    "tags": []
   },
   "source": [
    "# Motivation: Visualisierung"
   ]
  },
  {
   "cell_type": "markdown",
   "id": "5785c315-51de-4558-b720-2eb6960ca5bd",
   "metadata": {
    "editable": true,
    "slideshow": {
     "slide_type": ""
    },
    "tags": []
   },
   "source": [
    "### Beispiel: 3D-Plots"
   ]
  },
  {
   "cell_type": "markdown",
   "id": "90605dbf-a853-4995-a17f-541472c5ed0b",
   "metadata": {
    "editable": true,
    "slideshow": {
     "slide_type": ""
    },
    "tags": []
   },
   "source": [
    "### Beispiel: Animationen"
   ]
  },
  {
   "cell_type": "markdown",
   "id": "8fba4544-e039-48db-8ccf-09fa6f8251d9",
   "metadata": {
    "editable": true,
    "slideshow": {
     "slide_type": "slide"
    },
    "tags": []
   },
   "source": [
    "# Basics: Was ist ein Programm?\n",
    "Ein Programm besteht aus einer Reihe von Anweisungen, die **nacheinander** ausgeführt werden. In einem Programm werden verschiedene Objekte, z.B. Zahlen, Listen oder Text, durch Operationen manipuliert, um ein gewünschtes Ergebnis zu erhalten. \n",
    "\n",
    "### Beispiel: Summiere die Zahlen von 1 bis 10"
   ]
  },
  {
   "cell_type": "code",
   "execution_count": null,
   "id": "a66b4576-4fa1-4c49-9a34-8c4fb8ea82b5",
   "metadata": {
    "editable": true,
    "slideshow": {
     "slide_type": ""
    },
    "tags": []
   },
   "outputs": [],
   "source": [
    "# Summiere die Zahlen von 1 bis 10\n",
    "n = 10\n",
    "my_number = 0\n",
    "for i in range(1, n + 1):\n",
    "    my_number = my_number + i\n",
    "\n",
    "print(my_number)"
   ]
  },
  {
   "cell_type": "markdown",
   "id": "da553d4e",
   "metadata": {
    "editable": true,
    "slideshow": {
     "slide_type": ""
    },
    "tags": []
   },
   "source": [
    "Ein Python Programm ist eine **Textdatei**, die üblicherweise mit `.py` endet und Befehle in der Python Sprache enthält. Die Textdatei wird zu einem Python Programm, wenn sie durch einen **Python Intepreter** gelesen wird - üblicherweise durch einen Befehl in der **Kommandozeile**.\n",
    "\n",
    "`$ python my_script.py`\n",
    "\n",
    "Alternativ kann ein IDE (Integrated Development Environment) wie **PyCharm** genutzt werden, die sowohl das Programmieren in der Textdatei als auch die Ausführung des Programms in einer Entwicklungsumgebung vereint.\n",
    "Zusätzlich bieten Entwicklungsumgebungen nützliche Hilfestellungen, z.B.  durch Syntax-Highlighting und Fehlererkennungen."
   ]
  },
  {
   "cell_type": "markdown",
   "id": "ebc5b2fa-bb0e-44f7-89ce-80ea3dc6125b",
   "metadata": {
    "editable": true,
    "jp-MarkdownHeadingCollapsed": true,
    "slideshow": {
     "slide_type": "slide"
    },
    "tags": []
   },
   "source": [
    "# Warum Python? \n",
    "- **Vielseitigkeit:** Python kann für eine Vielzahl von Anwendungen verwendet werden, darunter Webentwicklung, Datenanalyse, maschinelles Lernen, wissenschaftliche Berechnungen, Systemskripting, Automatisierung und vieles mehr.\n",
    "-  **Wir beschränken uns auf eine spezielle Anwendung (Datenverarbeitung) und nutzen dafür nur wenige, grundlegende Funktionalitäten!** Notwendigerweise werden dadurch viele Themen nur oberflächlich und/oder unvollständig behandelt."
   ]
  },
  {
   "cell_type": "markdown",
   "id": "828aae33-8c53-4278-b4bd-ce77275100be",
   "metadata": {
    "editable": true,
    "slideshow": {
     "slide_type": "slide"
    },
    "tags": []
   },
   "source": [
    "# Warum Python?\n",
    "- **Einfach und leicht zu lesen:** Der Code lässt sich oft intuitiv verstehen, was die Sprache ideal für Einsteiger macht.\n",
    "- Funktionen und Operatoren orientieren sich an englischen Begriffen\n",
    "- Python verwendet Einrückungen um Codeblöcke zu kennzeichnen. Das erleichtert die Strukturierung und Lesbarkeit."
   ]
  },
  {
   "cell_type": "code",
   "execution_count": null,
   "id": "3f127144-491b-4781-8ce7-bad4fa2b0491",
   "metadata": {
    "editable": true,
    "slideshow": {
     "slide_type": ""
    },
    "tags": []
   },
   "outputs": [],
   "source": [
    "# Ziel: Gebe die Zahl aus, wenn sie größer/gleich als 10 ist\n",
    "my_number = 9\n",
    "if my_number >= 10:\n",
    "    print(my_number)\n",
    "else:\n",
    "    print(\"Die Zahl ist kleiner als 10!\")"
   ]
  },
  {
   "cell_type": "markdown",
   "id": "9f8ad570-9d89-46d2-ad99-de789ec89d12",
   "metadata": {
    "editable": true,
    "slideshow": {
     "slide_type": ""
    },
    "tags": []
   },
   "source": [
    "# Warum Python? \n",
    "- **Interaktiv und interpretierbar:** Python ist eine interpretierte Sprache, was bedeutet, dass der Code direkt Zeile für Zeile ausgeführt wird. Das macht es einfach, Code direkt auszuprobieren und zu testen.\n",
    "- Der Code wird von einem Python Interpreter von oben nach unten gelesen und ausgeführt"
   ]
  },
  {
   "cell_type": "code",
   "execution_count": null,
   "id": "d1b5ab63-048a-4fc1-9e9c-c17f02216f5e",
   "metadata": {
    "editable": true,
    "slideshow": {
     "slide_type": ""
    },
    "tags": []
   },
   "outputs": [],
   "source": [
    "# Ziel: Gebe die Zahl aus, wenn sie größer/gleich als 10 ist\n",
    "if number >= 10:\n",
    "    print(number)\n",
    "else:\n",
    "    print(\"Die Zahl ist kleiner als 10!\")\n",
    "# Macht es Sinn die Variable hier zu deklarieren?\n",
    "number = 9\n",
    "# Nein."
   ]
  },
  {
   "cell_type": "markdown",
   "id": "a3685c4c-ed05-4d04-a5e0-5f9f2c84187e",
   "metadata": {
    "editable": true,
    "slideshow": {
     "slide_type": ""
    },
    "tags": []
   },
   "source": [
    "Wenn eine Variable nicht definiert ist **bevor** sie aufgerufen wird, produziert das einen Fehler."
   ]
  },
  {
   "cell_type": "markdown",
   "id": "b9e407b3-3fda-4b5b-94dc-ce18724227de",
   "metadata": {
    "editable": true,
    "slideshow": {
     "slide_type": "slide"
    },
    "tags": []
   },
   "source": [
    "# Fehlermeldungen: Computer sind dumm, aber Fehlermeldungen sind nützlich!\n",
    "Wenn der Code nicht lesbar für den Compiler (Python) ist, wird eine Fehlermeldung produziert. **Fehlermeldungen in Python sind (meistens) sehr nützlich!** Sie enthalten wichtige Informationen  um den Fehler zu finden und zu verbessern:\n",
    "- Fehlercode (NameError, IndexError, SyntaxError, ...)\n",
    "- Wo tritt der Fehler auf?\n",
    "- Um was für eine Art von Fehler handelt es sich konkret?\n",
    "Fehlermeldungen sind essentiell um Fehlfunktionen des Programms zu verhindern - ein Programm sollte nicht funktionieren wenn nicht eindeutig ist was es tun soll.\n",
    "\n",
    "### Beispiel 1: Fehler finden"
   ]
  },
  {
   "cell_type": "code",
   "execution_count": null,
   "id": "13448f04-d1cb-473c-8bb0-bdc317624238",
   "metadata": {
    "editable": true,
    "slideshow": {
     "slide_type": ""
    },
    "tags": []
   },
   "outputs": [],
   "source": [
    "# Aufgabe: Berechne die Fläche eines Kreises A = pi * r^2\n",
    "pi = 3.1415         # Kreiszahl Pi\n",
    "r_1 =               # Radius Kreis 1\n",
    "r_2 = 4             # Radius Kreis 2\n",
    "A_1 = pi * (r_1 ** 2) # Fläche Kreis 1\n",
    "A_2 = pi * (r_2 ** 2) # Fläche Kreis 2\n",
    "# Textausgabe\n",
    "print(f\"Die Fläche von Kreis 1 beträgt \", A_1)\n",
    "print(f\"Die Fläche von Kreis 2 beträgt , A2)"
   ]
  },
  {
   "cell_type": "markdown",
   "id": "a6271650-cbb1-468b-b184-3e9f6aa6e517",
   "metadata": {
    "editable": true,
    "slideshow": {
     "slide_type": ""
    },
    "tags": []
   },
   "source": [
    "### Google Colab Link\n",
    "<img src=\"figures/qr-code.png\" alt=\"Google Colab\" width=\"400\"/>"
   ]
  },
  {
   "cell_type": "markdown",
   "id": "b928f15f-3a33-44f0-b1d9-7b9ea2cbe44f",
   "metadata": {
    "editable": true,
    "slideshow": {
     "slide_type": "slide"
    },
    "tags": []
   },
   "source": [
    "# Warum Python? \n",
    "- **Bibliotheken und Frameworks:** Python verfügt über eine Vielzahl von Bibliotheken und Frameworks, die die Entwicklung erheblich erleichtern. Beispiele sind:\n",
    "\n",
    "   - NumPy, Pandas, Matplotlib für Datenwissenschaft und -analyse\n",
    "   - Django, Flask für Webentwicklung\n",
    "   - TensorFlow, PyTorch für maschinelles Lernen\n",
    "\n",
    "-  Für komplexe Aufgaben ist es oft **einfacher und sinnvoller** nach dem passenden Paket zu suchen anstatt selbst sämtliche Funktionalitäten zu programmieren."
   ]
  },
  {
   "cell_type": "markdown",
   "id": "f1e9378b-c7d2-4107-82b0-075d058e0cc6",
   "metadata": {
    "editable": true,
    "slideshow": {
     "slide_type": ""
    },
    "tags": []
   },
   "source": [
    "### Beispiel Sinusfunktion\n",
    "Definition der Sinusfunktion: \n",
    "$Sin(x) \\approx x - \\frac{x^3}{3!} + \\frac{x^5}{5!} - \\dots$"
   ]
  },
  {
   "cell_type": "code",
   "execution_count": null,
   "id": "15bb9e88-ed1c-46ab-b1ac-5dd35f498089",
   "metadata": {
    "editable": true,
    "slideshow": {
     "slide_type": ""
    },
    "tags": []
   },
   "outputs": [],
   "source": [
    "# Ziel: Berechne die Sinusfunktion\n",
    "def sinus(x, n):\n",
    "# Taylornäherung der Sinusfunktion\n",
    "# sin(x) = x - x^3/3! + x^5/5! - ...\n",
    "# x: Punkt der Sinusfunktion\n",
    "# n: Anzahl an Termen der Taylornäherung\n",
    "    y = x # Output\n",
    "    fac = 1 # Factorial\n",
    "    for i in range(1, n):\n",
    "        n_term = x ** (2 * i + 1)\n",
    "        fac *= 2 * i * (2 * i + 1)\n",
    "        sign = (-1) ** i\n",
    "        y += sign * n_term / fac\n",
    "    return y\n",
    "\n",
    "x = 0.5\n",
    "n = 3 # Länge der Taylorexpansion\n",
    "sin_x = sinus(x, n)\n",
    "print(sin_x)"
   ]
  },
  {
   "cell_type": "code",
   "execution_count": null,
   "id": "e5853b46-ad13-4f56-910f-958d81b68eaf",
   "metadata": {
    "editable": true,
    "slideshow": {
     "slide_type": ""
    },
    "tags": []
   },
   "outputs": [],
   "source": [
    "# Ziel: Berechne die Sinusfunktion mit NumPy\n",
    "import numpy as np # Importiere das NumPy (Numerisches Python) Paket\n",
    "x = 0.5\n",
    "sin_x = np.sin(x)\n",
    "print(sin_x)"
   ]
  },
  {
   "cell_type": "markdown",
   "id": "dcf15ae3-4c1c-4a3b-9a25-5763ddfba97f",
   "metadata": {
    "editable": true,
    "slideshow": {
     "slide_type": "slide"
    },
    "tags": []
   },
   "source": [
    "### Einfachheit > Performance\n",
    "Die Grundlage des Programmierens ist der Programmcode der von Entwickler*innen geschrieben wird. Guter Code folgt einfachen Prinzipien:\n",
    "- **Lesbarkeit** - Ordentlicher Code nutzt **Konventionen** für Variablen, Einrückungen, Kommentare\n",
    "- **Verständlichkeit** - Verständlicher Code ist **kommentiert** und **strukturiert**\n",
    "- **Konfigurierbarkeit** - Kleine Änderungen an der Aufgabe sollten zu kleinen Änderungen am Code führen\n",
    "- **Don't repeat yourself** - Wiederkehrende Aufgaben sollten zusammengefasst und automatisiert werden"
   ]
  },
  {
   "cell_type": "markdown",
   "id": "e03e7b05-cb55-4b7a-803b-1b893e39be0a",
   "metadata": {
    "editable": true,
    "slideshow": {
     "slide_type": ""
    },
    "tags": []
   },
   "source": [
    "### Beispiel Lesbarkeit & Verständlichkeit: Fläche eines Kreises\n",
    "$A = \\pi * r^2$"
   ]
  },
  {
   "cell_type": "markdown",
   "id": "0ffcddab-cc21-4345-955a-a8894846c159",
   "metadata": {
    "editable": true,
    "slideshow": {
     "slide_type": ""
    },
    "tags": []
   },
   "source": [
    "<div style=\"background-color: red; padding: 10px;\">\n",
    "    <h3>Bad practice</h3>\n",
    "</div>"
   ]
  },
  {
   "cell_type": "code",
   "execution_count": 28,
   "id": "315673b1-66ce-4095-a7c9-a99be4c04634",
   "metadata": {
    "editable": true,
    "slideshow": {
     "slide_type": ""
    },
    "tags": []
   },
   "outputs": [
    {
     "name": "stdout",
     "output_type": "stream",
     "text": [
      "12.566\n",
      "50.264\n"
     ]
    }
   ],
   "source": [
    "print(f\"{3.1415 * (2 ** 2)}\")\n",
    "print(f\"{3.1415 * (4 ** 2)}\")"
   ]
  },
  {
   "cell_type": "code",
   "execution_count": 27,
   "id": "987974f2-ccfd-47ca-a533-f5680a9ae3b4",
   "metadata": {
    "editable": true,
    "slideshow": {
     "slide_type": ""
    },
    "tags": []
   },
   "outputs": [
    {
     "name": "stdout",
     "output_type": "stream",
     "text": [
      "Die Fläche von Kreis 1 beträgt  12.566\n",
      "Die Fläche von Kreis 2 beträgt  50.264\n"
     ]
    }
   ],
   "source": [
    "# Aufgabe: Berechne die Fläche eines Kreises A = pi * r^2\n",
    "pi = 3.1415         # Kreiszahl Pi\n",
    "r_1 = 2             # Radius Kreis 1\n",
    "r_2 = 4             # Radius Kreis 2\n",
    "A_1 = pi * (r_1 ** 2) # Fläche Kreis 1\n",
    "A_2 = pi * (r_2 ** 2) # Fläche Kreis 2\n",
    "# Textausgabe\n",
    "print(f\"Die Fläche von Kreis 1 beträgt \", A_1)\n",
    "print(f\"Die Fläche von Kreis 2 beträgt \", A_2)"
   ]
  },
  {
   "cell_type": "markdown",
   "id": "cec9d7c4-ff24-4642-8ec5-254a5f70b65a",
   "metadata": {
    "editable": true,
    "slideshow": {
     "slide_type": ""
    },
    "tags": []
   },
   "source": [
    "Das Ergebnis ist zwar das selbe, aber die zweite Version ist **klarer und verständlicher**. "
   ]
  },
  {
   "cell_type": "markdown",
   "id": "4a9c5d37",
   "metadata": {
    "editable": true,
    "slideshow": {
     "slide_type": "slide"
    },
    "tags": []
   },
   "source": [
    "# Basics: Variablen\n",
    "Variablen bilden die Grundlage eines Programms und dienen der **Datenspeicherung**. Eine Variable ist definiert durch drei Dinge:\n",
    "\n",
    "- **Bezeichner:** Der Name der Variable, z.B. `my_number`\n",
    "- **Datentyp:** Die Art der Daten die in der Variable gespeichert werden, bspw. Zahlen, Text, eine Liste von Zahlen oder ein Plot\n",
    "- **Wert:** Der spezifische Wert der Variable, bspw. eine spezifische Zahl oder eine Grafik\n"
   ]
  },
  {
   "cell_type": "code",
   "execution_count": 12,
   "id": "c504eac6-176b-42b0-8add-c6b6d3479df1",
   "metadata": {
    "editable": true,
    "slideshow": {
     "slide_type": ""
    },
    "tags": []
   },
   "outputs": [
    {
     "name": "stdout",
     "output_type": "stream",
     "text": [
      "10\n"
     ]
    }
   ],
   "source": [
    "# Variablen dienen der Datenspeicherung!\n",
    "my_integer = 10\n",
    "my_integer - 3\n",
    "print(my_integer)"
   ]
  },
  {
   "cell_type": "markdown",
   "id": "f4d13f6f",
   "metadata": {
    "editable": true,
    "slideshow": {
     "slide_type": ""
    },
    "tags": []
   },
   "source": [
    "Die **Bezeichner** einer Variable können frei gewählt werden, innerhalb der von Python gesetzten Regeln für Variablen:\n",
    "- **Python ist case-sensitive:** Groß und Kleinschreibung (`omega`, `Omega`, ...) spielt bei der Bennenung von Variablen eine Rolle\n",
    "- **Erlaubte symbole:** `a ... z`,  `0 ... 9` und `_` (**nicht:** `-`)\n",
    "- **Geschützte Namen:** Namen von speziellen Funktionen und Befehlen sind geschützt und können nicht überschrieben werden"
   ]
  },
  {
   "cell_type": "markdown",
   "id": "f4f54890-2f62-433b-a8a4-04db2c41ae43",
   "metadata": {
    "editable": true,
    "slideshow": {
     "slide_type": ""
    },
    "tags": []
   },
   "source": [
    "<div style=\"background-color: lightblue; padding: 10px;\">\n",
    "    <h3>Wichtig</h3>\n",
    "    <p>Variablen sollten deskriptiv sein, d.h. der Name einer Variable sollte darauf schließen lassen was sie enthält!</p>\n",
    "</div>"
   ]
  },
  {
   "cell_type": "markdown",
   "id": "912bc935-a1d6-450d-92c2-35ed2d4eca8a",
   "metadata": {
    "editable": true,
    "slideshow": {
     "slide_type": "slide"
    },
    "tags": []
   },
   "source": [
    "# Basics: Variablen"
   ]
  },
  {
   "cell_type": "markdown",
   "id": "7295a779-44c8-4adf-bcef-79bfe167c5a1",
   "metadata": {
    "editable": true,
    "slideshow": {
     "slide_type": ""
    },
    "tags": []
   },
   "source": [
    "Es gibt 3 verschiedene Arten von Datentypen, die eine Variable mit einem einzelnen Objekt haben kann:\n",
    "\n",
    "- **Zahlen:** Entweder Ganze Zahlen (**integers**) oder Kommazahlen (**floats**), die mit einer bestimmten Präzision gespeichert werden\n",
    "- **Text:** Text wird in Python durch Anführungszeichen `\"\"` oder `''` markiert um von Variablen unterschieden zu werden. \n",
    "- **Booleans:** Bool'sche Werte können nur zwei Werte annehmen: `True` und `False`, oder alternativ `1` und `0`\n",
    "\n",
    "Variablen dienen zunächst der Speicherung. Um den Wert einer Variable zu überprüfen, kann sie ausgegeben werden mit der `print()` Funktion, bei der alles innerhalb der Klammern ausgegeben wird. Verschiedene Daten werden dabei durch Kommas separiert."
   ]
  },
  {
   "cell_type": "code",
   "execution_count": null,
   "id": "dbbe1a4e-3b47-4ef0-963d-ed6cf73b0e84",
   "metadata": {
    "editable": true,
    "slideshow": {
     "slide_type": ""
    },
    "tags": []
   },
   "outputs": [],
   "source": [
    "my_integer = 10\n",
    "my_float = 10.0\n",
    "my_text = \"zehn\"\n",
    "my_bool = True\n",
    "\n",
    "print(my_integer, type(my_integer))\n",
    "print(my_float, type(my_float))\n",
    "print(my_text, type(my_text))\n",
    "print(my_bool, type(my_float))"
   ]
  },
  {
   "cell_type": "markdown",
   "id": "b5d4ca90-e985-431e-92f5-c6109e473d4c",
   "metadata": {},
   "source": [
    "Wenn ein Wert **nicht** in einer Variable gespeichert wird, verfällt er einfach."
   ]
  },
  {
   "cell_type": "code",
   "execution_count": 11,
   "id": "8b03aa24-0928-4eb8-9afb-fa3039d32a60",
   "metadata": {},
   "outputs": [
    {
     "name": "stdout",
     "output_type": "stream",
     "text": [
      "1 2\n"
     ]
    }
   ],
   "source": [
    "a = 1\n",
    "b = 2\n",
    "a + b\n",
    "print(a, b)"
   ]
  },
  {
   "cell_type": "markdown",
   "id": "b1f1f831-90a5-4a47-beda-9282b84798f2",
   "metadata": {},
   "source": [
    "Variablen können nach Belieben überschrieben werden, wobei der ursprüngliche Wert gelöscht wird."
   ]
  },
  {
   "cell_type": "markdown",
   "id": "3e248345-d3e8-4aea-82eb-3b56dc985585",
   "metadata": {
    "editable": true,
    "slideshow": {
     "slide_type": ""
    },
    "tags": []
   },
   "source": [
    "<div style=\"background-color: lightblue; padding: 10px;\">\n",
    "    <h3>Wichtig</h3>\n",
    "    <p>Die <code>print()</code> Funktion ist die einfachste Möglichkeit um Variablen auszulesen, d.h. um Ergebnisse zu erhalten. Die Ausgabe erfolgt allerdings lediglich temporär auf die Konsole und wird nicht standardmäßig nicht dauerhaft gespeichert, bspw. in einer Datei!</p>\n",
    "</div>"
   ]
  },
  {
   "cell_type": "markdown",
   "id": "ed3fd8cb-675e-4d63-88e8-29d924d87fe4",
   "metadata": {
    "editable": true,
    "slideshow": {
     "slide_type": "slide"
    },
    "tags": []
   },
   "source": [
    "# Basics: Funktionen\n",
    "**Funktionen** sind der zweite grundlegende Bestandteil eines Programms. Eine Funktion ist eine festgegte Abfolge von **Operationen**, die mit einer Reihe von Variablen, den **Argumenten**, ausgeführt wird. Die Argumente werden durch **runde Klammern** `()` festgelegt, die Allgemein das Merkmal von Funktionen sind. Ein Beispiel dafür ist die `print()` Funktion, die alles innerhalb der Klammern ausgibt."
   ]
  },
  {
   "cell_type": "code",
   "execution_count": 14,
   "id": "7d0efe38-229c-4ebc-8c1f-6ae0c7d9d697",
   "metadata": {
    "editable": true,
    "slideshow": {
     "slide_type": ""
    },
    "tags": []
   },
   "outputs": [
    {
     "name": "stdout",
     "output_type": "stream",
     "text": [
      "Die Zahl 1 ist kleiner als 2\n"
     ]
    }
   ],
   "source": [
    "a = 1\n",
    "b = 2\n",
    "print(\"Die Zahl\", 1, \"ist kleiner als\", 2)"
   ]
  },
  {
   "cell_type": "markdown",
   "id": "67ddd83d-90ba-4d77-980a-cf6adb2246e4",
   "metadata": {
    "editable": true,
    "slideshow": {
     "slide_type": ""
    },
    "tags": []
   },
   "source": [
    "In Python gibt es eine Reihe von **Built-In Funktionen**, die wesentliche Funktionalitäten zur Verfügung stellen. In der Regel ist es aber notwendig, zusätzlich eigene Funktionen zu nutzen.\n",
    "Der Beginn einer Definition für eine Funktion wird durch das **def Keyword** signalisiert. Die Allgemeine Syntax ist\n",
    "\n",
    "```python \n",
    "    def name(argument1, argument2, ...): \n",
    "        #Code\n",
    "        return output1, output2, ...\n",
    "```"
   ]
  },
  {
   "cell_type": "code",
   "execution_count": 16,
   "id": "89660c2f-7cea-4029-8cb9-9adac4b9a99b",
   "metadata": {
    "editable": true,
    "slideshow": {
     "slide_type": ""
    },
    "tags": []
   },
   "outputs": [
    {
     "name": "stdout",
     "output_type": "stream",
     "text": [
      "5 25\n"
     ]
    }
   ],
   "source": [
    "def quadrat(x):\n",
    "    # Bildet das Quadrat einer Zahl\n",
    "    # x: Zahl\n",
    "    y = x ** 2\n",
    "    return y\n",
    "\n",
    "a = 5\n",
    "b = quadrat(a)\n",
    "print(a, b)"
   ]
  },
  {
   "cell_type": "markdown",
   "id": "168c4e94-8fcc-4ad1-81b4-a322698eed83",
   "metadata": {
    "editable": true,
    "slideshow": {
     "slide_type": ""
    },
    "tags": []
   },
   "source": [
    "<div style=\"background-color: lightblue; padding: 10px;\">\n",
    "    <h3>Wichtig</h3>\n",
    "    <p>Die Anzahl der Input und Output Argumente muss exakt eingehalten werden! Eine Funktion kann nicht mit zu wenigen oder vielen Argumenten aufgerufen werden. Es ist daher wichtig gut zu dokumetieren welche Bedeutung die Argumente und der Output haben! Für Built-In Funktionen steht dafür die <a href=\"https://docs.python.org/3/\" target=\"_blank\" style=\"color: darkblue; text-decoration: underline;\">\n",
    "            Python-Dokumentation\n",
    "        </a> zur Verfügung.</p>\n",
    "</div>"
   ]
  },
  {
   "cell_type": "markdown",
   "id": "cd422e31-61dd-45b7-ba0b-f4c20ab21716",
   "metadata": {
    "editable": true,
    "slideshow": {
     "slide_type": "slide"
    },
    "tags": []
   },
   "source": [
    "# Beispiel 2: Don't repeat yourself!\n",
    "Eins der grundlegenden Prinzipien für guten Code ist die Vermeidung von sich wiederholenden Codeabschnitten. Funktionen sind dafür wesentliche Hilfsmittel.\n",
    "### Beispiel: Konzentrationen berechnen\n",
    "Der folgende Code kann durch eine Funktion stark gekürzt werden, indem wiederholdende Abschnitte durch eine **Funktion** erledigt werden."
   ]
  },
  {
   "cell_type": "code",
   "execution_count": 18,
   "id": "aa46aa12-1cf9-4516-9900-a004725f4d50",
   "metadata": {
    "editable": true,
    "slideshow": {
     "slide_type": ""
    },
    "tags": []
   },
   "outputs": [
    {
     "name": "stdout",
     "output_type": "stream",
     "text": [
      "Konzentration 1 beträgt 9.902951079421668e-07\n",
      "Konzentration 1 beträgt 3.060912151821243e-07\n",
      "Konzentration 1 beträgt 1.1120378092855157e-06\n",
      "Konzentration 1 beträgt 1.4710208884966166e-06\n"
     ]
    }
   ],
   "source": [
    "# Input Daten - Nothing to be done here\n",
    "m1 = 10    # Masse Probe 1  \n",
    "m2 = 3     # Masse Probe 2\n",
    "m3 = 12    # Masse Probe 3\n",
    "m4 = 15    # Masse Probe 4\n",
    "\n",
    "V1 = 102   # Volumen Lösung 1\n",
    "V2 = 99    # Volumen Lösung 2\n",
    "V3 = 109   # Volumen Lösung 3\n",
    "V4 = 103   # Volumen Lösung 4\n",
    "\n",
    "molmasse = 99   # g / mol\n",
    "\n",
    "# Konzentrationsberechnung\n",
    "def konzentration(gewicht, molmasse, volumen):\n",
    "    # Berechnet die Konzentration in mol/l\n",
    "    # gewicht: Stoffmenge in Gramm\n",
    "    # molmasse: Molekulare Masse in g / mol\n",
    "    # volumen: Lösungsmittel in ml\n",
    "    \"\"\"\n",
    "    Berechne die Konzentration in mol / l hier\n",
    "    \"\"\"\n",
    "# Berechnung der Stoffmengen\n",
    "n1 = m1 / molmasse\n",
    "n2 = m2 / molmasse\n",
    "n3 = m3 / molmasse\n",
    "n4 = m4 / molmasse\n",
    "\n",
    "# Volumen in Litern\n",
    "V1 = V1 * 1000\n",
    "V2 = V2 * 1000\n",
    "V3 = V3 * 1000\n",
    "V4 = V4 * 1000\n",
    "\n",
    "# Berechnung der Konzentrationen\n",
    "c1 = n1 / V1\n",
    "c2 = n2 / V2\n",
    "c3 = n3 / V3\n",
    "c4 = n4 / V4\n",
    "\n",
    "# Output - Nothing to be done here!\n",
    "print(\"Konzentration 1 beträgt\", c1)\n",
    "print(\"Konzentration 1 beträgt\", c2)\n",
    "print(\"Konzentration 1 beträgt\", c3)\n",
    "print(\"Konzentration 1 beträgt\", c4)\n"
   ]
  },
  {
   "cell_type": "markdown",
   "id": "1e3a87d9-01ae-4498-ad8d-150cef72210d",
   "metadata": {
    "editable": true,
    "slideshow": {
     "slide_type": ""
    },
    "tags": []
   },
   "source": [
    "### Google Colab Link\n",
    "<img src=\"figures/qr-code.png\" alt=\"Google Colab\" width=\"400\"/>"
   ]
  },
  {
   "cell_type": "markdown",
   "id": "102e6ac3",
   "metadata": {
    "editable": true,
    "slideshow": {
     "slide_type": "slide"
    },
    "tags": []
   },
   "source": [
    "# Datentypen: Zahlen\n",
    "\n",
    "Es gibt zwei unterschiedliche Arten von Zahlen: Ganze Zahlen (**integers**) oder Gleitkommazahlen (**floats**)."
   ]
  },
  {
   "cell_type": "code",
   "execution_count": null,
   "id": "5ba64dde",
   "metadata": {
    "editable": true,
    "slideshow": {
     "slide_type": ""
    },
    "tags": []
   },
   "outputs": [],
   "source": [
    "# integer (Ganzzahl)\n",
    "a = 1\n",
    "b = -5\n",
    "c = 0\n",
    "print(a, b, c)\n",
    "\n",
    "d = 0.1 + 0.2\n",
    "e = 0.3\n",
    "f = d - e \n",
    "print(d, e, f)"
   ]
  },
  {
   "cell_type": "markdown",
   "id": "ebc9d74b-6579-4a75-b929-86d6d3cf65be",
   "metadata": {
    "editable": true,
    "slideshow": {
     "slide_type": ""
    },
    "tags": []
   },
   "source": [
    "**Floats** können auch in wissenschaftlicher Notation mit einem Exponenten als `1000 = 10e3` und `0.001 = 10e-3` angegeben werden. Während **Integers** in Python eine beliebige Größe haben können sind **Floats** auf Zahlen zwischen $1.7 * 10^{-308}$ bis $1.7 * 10^{308}$ begrenzt, da jede Zahl lediglich 64 Bits speicher zur Verfügung steht. \n",
    "Höhere Zahlen sind nicht speicherbar."
   ]
  },
  {
   "cell_type": "code",
   "execution_count": null,
   "id": "e985639f",
   "metadata": {
    "editable": true,
    "slideshow": {
     "slide_type": ""
    },
    "tags": []
   },
   "outputs": [],
   "source": [
    "# Overflow\n",
    "a = 1e307\n",
    "b = 1e308\n",
    "print(a, b)"
   ]
  },
  {
   "cell_type": "markdown",
   "id": "ff794afe-c007-4841-934b-69513241af76",
   "metadata": {
    "editable": true,
    "slideshow": {
     "slide_type": ""
    },
    "tags": []
   },
   "source": [
    "**Floats** beschreiben nur mit einer begrenzten Genauigkeit das Koninuum der reelen Zahlen, welche als **machine precision** bezeichnet wird."
   ]
  },
  {
   "cell_type": "code",
   "execution_count": null,
   "id": "dfbde25a-48fd-43a8-a5fa-9bddc33f59f6",
   "metadata": {
    "editable": true,
    "slideshow": {
     "slide_type": ""
    },
    "tags": []
   },
   "outputs": [],
   "source": [
    "a = 0.1 + 0.2\n",
    "b = 0.3\n",
    "print(b, f\"{b:.20f}\")\n",
    "print(b - a)"
   ]
  },
  {
   "cell_type": "markdown",
   "id": "227fe08f",
   "metadata": {
    "editable": true,
    "slideshow": {
     "slide_type": "slide"
    },
    "tags": []
   },
   "source": [
    "# Basics: Operationen mit Zahlen\n",
    "Variablen die **Integers** oder **Floats** enthalten, können mit grundlegenden mathematischen Operatoren genutzt werden."
   ]
  },
  {
   "cell_type": "markdown",
   "id": "1f4c23b0-3ab1-4635-b333-b798725b3044",
   "metadata": {
    "editable": true,
    "slideshow": {
     "slide_type": ""
    },
    "tags": []
   },
   "source": [
    "| **Operation**         | **Symbol** | **Beschreibung**                              |\n",
    "|-----------------------|------------|-----------------------------------------------|\n",
    "| Addition              | `+`        | Addiert zwei Werte                           |\n",
    "| Subtraktion           | `-`        | Subtrahiert den zweiten Wert vom ersten      |\n",
    "| Multiplikation        | `*`        | Multipliziert zwei Werte                     |\n",
    "| Division              | `/`        | Dividiert den ersten Wert durch den zweiten  |\n",
    "| Modulo (Rest)         | `%`        | Gibt den Rest einer Division zurück          |\n",
    "| Potenz                | `**`       | Potenziert den ersten Wert mit dem zweiten   |\n",
    "| Quadratwurzel         | `** 0.5`   | Zieht die Quadratwurzel des Wertes           |"
   ]
  },
  {
   "cell_type": "code",
   "execution_count": null,
   "id": "9c916db4",
   "metadata": {
    "editable": true,
    "slideshow": {
     "slide_type": ""
    },
    "tags": []
   },
   "outputs": [],
   "source": [
    "a = 2.0\n",
    "b = 3\n",
    "\n",
    "# Addition:\n",
    "add = a + b\n",
    "# Subtraktion:\n",
    "sub = a - b\n",
    "# Multiplikation\n",
    "mul = a * b\n",
    "# Division \n",
    "div = a / b\n",
    "# Modulo\n",
    "mod = a % b\n",
    "# Exponent \n",
    "power = a ** b\n",
    "\n",
    "print(add, sub, mul, div, mod, power)"
   ]
  },
  {
   "cell_type": "markdown",
   "id": "338d65dd-9979-4865-90dd-f8e9955e0e15",
   "metadata": {
    "editable": true,
    "slideshow": {
     "slide_type": ""
    },
    "tags": []
   },
   "source": [
    "<div style=\"background-color: lightblue; padding: 10px;\">\n",
    "    <h3>Wichtig</h3>\n",
    "    <p>Die Reihenfolge der mathematischen Operationen folgt der Standardreihenfloge mathematischer Operationen (BODMAS): Klammern, Exponenten, Division, Multiplikation, Addition, Subtraktion - Kurz gesagt: Punkt vor Strich </p>\n",
    "</div>"
   ]
  },
  {
   "cell_type": "code",
   "execution_count": null,
   "id": "391a12fa-63a3-4fe5-85d8-c2c14508aadf",
   "metadata": {
    "editable": true,
    "slideshow": {
     "slide_type": ""
    },
    "tags": []
   },
   "outputs": [],
   "source": [
    "# Klammern vor Exponenten, Exponenten vor Division\n",
    "a = 9 ** 1 / 2\n",
    "b = 9 ** (1 / 2)\n",
    "print(a, b)"
   ]
  },
  {
   "cell_type": "code",
   "execution_count": null,
   "id": "d3f151c6-0d9a-4227-b5a0-971e98d39b2c",
   "metadata": {
    "editable": true,
    "slideshow": {
     "slide_type": ""
    },
    "tags": []
   },
   "outputs": [],
   "source": []
  },
  {
   "cell_type": "markdown",
   "id": "e2e38e19-71ae-4ee7-ba50-5f2d36baa03d",
   "metadata": {
    "editable": true,
    "slideshow": {
     "slide_type": "slide"
    },
    "tags": []
   },
   "source": [
    "# Operationen mit Zahlen\n",
    "Zusätzlich zu den grundlegenden Operatoren gibt es eine Vielzahl an Funktionen, die auf Zahlen angewandt werden können."
   ]
  },
  {
   "cell_type": "markdown",
   "id": "d9823793-363f-46d7-8950-4fd18a85b640",
   "metadata": {
    "editable": true,
    "slideshow": {
     "slide_type": ""
    },
    "tags": []
   },
   "source": [
    "| **Operation**         | **Symbol** | **Beschreibung**                              |\n",
    "|-----------------------|------------|-----------------------------------------------|\n",
    "| Absolutwert           | `abs()`    | Gibt den Betrag einer Zahl zurück              \n",
    "| Rundung               | `round()`  | Rundet eine Zahl auf eine bestimmte Dezimalstelle | \n",
    "| Maximum               | `max()`    | Gibt den größten Wert aus einer Sequenz zurück |\n",
    "| Minimum               | `min()`    | Gibt den kleinsten Wert aus einer Sequenz zurück |"
   ]
  },
  {
   "cell_type": "code",
   "execution_count": null,
   "id": "7c5f25b8-a514-4790-9bb2-4fd313d4f479",
   "metadata": {
    "editable": true,
    "slideshow": {
     "slide_type": ""
    },
    "tags": []
   },
   "outputs": [],
   "source": [
    "a = -2.21\n",
    "b = 3\n",
    "\n",
    "# Absolutwert\n",
    "abs_val = abs(a)\n",
    "# Rundung\n",
    "round_val = round(a, 1)\n",
    "# Maximalwert\n",
    "max_val = max(a, b)\n",
    "# Minimalwert\n",
    "min_val = min(a, b)\n",
    "\n",
    "# Ausgabe\n",
    "print(abs_val, round_val, max_val, min_val)"
   ]
  },
  {
   "cell_type": "code",
   "execution_count": null,
   "id": "145c05a5-742b-4f93-afe0-0ead262d9c99",
   "metadata": {
    "editable": true,
    "slideshow": {
     "slide_type": ""
    },
    "tags": []
   },
   "outputs": [],
   "source": []
  },
  {
   "cell_type": "markdown",
   "id": "d8a6cfee-a1b3-415b-9065-5d0210df6a9e",
   "metadata": {
    "editable": true,
    "slideshow": {
     "slide_type": "slide"
    },
    "tags": []
   },
   "source": [
    "# Datentypen: Strings\n",
    "Text, oder **Strings**, wird in Python durch Anführungszeichen `''` und `\"\"` markiert, um von **Variablen** unterschieden zu werden."
   ]
  },
  {
   "cell_type": "code",
   "execution_count": null,
   "id": "42920e17-4f5f-4ad5-bc24-dc0a59f7cf7f",
   "metadata": {
    "editable": true,
    "slideshow": {
     "slide_type": ""
    },
    "tags": []
   },
   "outputs": [],
   "source": [
    "my_text = \"Hello World\"\n",
    "print(my_text)"
   ]
  },
  {
   "cell_type": "markdown",
   "id": "1536ca1f-dd07-4053-8f0f-7ed31c33fdf3",
   "metadata": {
    "editable": true,
    "slideshow": {
     "slide_type": ""
    },
    "tags": []
   },
   "source": [
    "**Strings** sind ein fundamental anderer Datentyp als **Floats** und **Integers** und können nur in Ausnahmefällen kombiniert werden."
   ]
  },
  {
   "cell_type": "code",
   "execution_count": null,
   "id": "22c86e99-84e3-4084-9db1-c72c3b5841d3",
   "metadata": {
    "editable": true,
    "slideshow": {
     "slide_type": ""
    },
    "tags": []
   },
   "outputs": [],
   "source": [
    "my_text = \"10\"\n",
    "my_int = 2\n",
    "print(my_text + my_int)"
   ]
  },
  {
   "cell_type": "markdown",
   "id": "82d8cd0e-6abb-4456-b412-ddb699d36270",
   "metadata": {
    "editable": true,
    "slideshow": {
     "slide_type": ""
    },
    "tags": []
   },
   "source": [
    "Strings können mit einer Vielzahl an Operationen manipuliert werden"
   ]
  },
  {
   "cell_type": "markdown",
   "id": "30b131c0-6b8e-40d2-9450-91137df7d81f",
   "metadata": {
    "editable": true,
    "slideshow": {
     "slide_type": ""
    },
    "tags": []
   },
   "source": [
    "| **Operation**                 | **Beschreibung**                                | **Beispiel**                                         | **Ausgabe**                |\n",
    "|-------------------------------|-------------------------------------------------|------------------------------------------------------|----------------------------|\n",
    "| Verkettung | Verbindet Strings mit `+`                       | `\"Hallo, \" + \"Welt\"`                                 | `Hallo, Welt`              |\n",
    "| Länge bestimmen               | Anzahl der Zeichen mit `len()`                  | `len(\"Python\")`                                      | `6`                        |                   |\n",
    "| Ersetzen                      | Ersetzt Substrings mit `replace()`              | `\"Ich liebe Python\".replace(\"Python\", \"Coding\")`     | `Ich liebe Coding`         |\n",
    "| Aufteilen                     | Teilt String in eine Liste                      | `\"eins zwei drei\".split()`                           | `['eins', 'zwei', 'drei']` |"
   ]
  },
  {
   "cell_type": "markdown",
   "id": "4017f82c-66c0-42a8-b183-14ef004b7b97",
   "metadata": {
    "editable": true,
    "slideshow": {
     "slide_type": ""
    },
    "tags": []
   },
   "source": [
    "Variablen können in Text mittels der `format()` Funktion oder als `f\"\"` **String** eingefügt werden."
   ]
  },
  {
   "cell_type": "code",
   "execution_count": null,
   "id": "210132f9-f62c-4346-990b-5a1257fa3427",
   "metadata": {
    "editable": true,
    "slideshow": {
     "slide_type": ""
    },
    "tags": []
   },
   "outputs": [],
   "source": [
    "# Gibt eine berechnete Konzentration aus\n",
    "concentration = 0.2   # mol / l\n",
    "# f\"\" string method\n",
    "print(f\"Die finale Konzentration beträgt {concentration} mol / l\")\n",
    "# format function\n",
    "print(\"Die finale Konzentration beträgt {} mol / l\".format(concentration))"
   ]
  },
  {
   "cell_type": "markdown",
   "id": "5f1416ba-804a-4004-b96c-f3850e68a5b1",
   "metadata": {
    "editable": true,
    "slideshow": {
     "slide_type": ""
    },
    "tags": []
   },
   "source": []
  },
  {
   "cell_type": "markdown",
   "id": "5b0c4e8e-dd6e-4662-8e3a-83aaf161f26f",
   "metadata": {
    "editable": true,
    "slideshow": {
     "slide_type": "slide"
    },
    "tags": []
   },
   "source": [
    "# Datentypen: Bool'sche Logik\n",
    "**Bool**'sche Werte können nur zwei Werte annehmen: Wahr oder Falsch, bzw. in Python `True` und `False`. Sie spielen eine wichtige Rolle in der Strukturierung von Programmen, bspw. indem gewisse Operationen nur durchgeführt werden wenn ein Wert `True` ist. "
   ]
  },
  {
   "cell_type": "markdown",
   "id": "10711763-2790-4b0f-a511-9023b125f9cb",
   "metadata": {
    "editable": true,
    "slideshow": {
     "slide_type": ""
    },
    "tags": []
   },
   "source": [
    "Oft werden **Bool**'sche Werte durch **Vergleichsoperatoren** oder **logische Operationen** erzeugt. **Vergleichsoperatoren** testen eine Bedingung zwischen zwei einzelnen Datenobjekten, bspw. zwischen zwei Zahlen oder zwei **Strings**, und geben einen **Bool**'schen Wert zurück."
   ]
  },
  {
   "cell_type": "code",
   "execution_count": null,
   "id": "ed68e03e-63ca-4509-9d89-407770284c81",
   "metadata": {
    "editable": true,
    "slideshow": {
     "slide_type": ""
    },
    "tags": []
   },
   "outputs": [],
   "source": [
    "# Vergleichsoperatoren\n",
    "a = 1 \n",
    "b = 2\n",
    "\n",
    "# Kleiner\n",
    "lower = a < b\n",
    "# Größer\n",
    "greater = a > b \n",
    "# Gleich\n",
    "eq = a == b\n",
    "# Ungleich\n",
    "neq = a != b\n",
    "# Größer Gleich\n",
    "greatereq = a >= b\n",
    "# Kleiner Gleich\n",
    "lowereq = a <= b\n",
    "\n",
    "print(lower, greater, eq, neq, greatereq, lowereq)"
   ]
  },
  {
   "cell_type": "markdown",
   "id": "6ce03712-c00c-491c-9b71-81c06088b981",
   "metadata": {
    "editable": true,
    "slideshow": {
     "slide_type": ""
    },
    "tags": []
   },
   "source": [
    "<div style=\"background-color: lightblue; padding: 10px;\">\n",
    "    <h3>Wichtig</h3>\n",
    "    <p>\n",
    "       Vergleiche zwischen <code>Floats</code> sind oft schwierig, da durch die begrenzte Maschinenpräzision zwei Floats selten exakt gleich sind! \n",
    "    </p>\n",
    "</div>"
   ]
  },
  {
   "cell_type": "code",
   "execution_count": null,
   "id": "d72dffb5-da2e-42b5-b81b-bcd54380ed92",
   "metadata": {
    "editable": true,
    "slideshow": {
     "slide_type": ""
    },
    "tags": []
   },
   "outputs": [],
   "source": [
    "a = 0.1 + 0.2\n",
    "b = 0.3\n",
    "eq = a == b\n",
    "\n",
    "print(eq)"
   ]
  },
  {
   "cell_type": "markdown",
   "id": "401efce8-6f82-4f6c-924b-7ec50ce8aafa",
   "metadata": {
    "editable": true,
    "slideshow": {
     "slide_type": "slide"
    },
    "tags": []
   },
   "source": [
    "# Logische Operatoren\n",
    " "
   ]
  },
  {
   "cell_type": "markdown",
   "id": "ca3bab5f-55e6-46cc-b679-74b2b8152c4f",
   "metadata": {
    "editable": true,
    "slideshow": {
     "slide_type": ""
    },
    "tags": []
   },
   "source": [
    "**Logische operatoren** kombinieren zwei **Bool**sche Werte und geben gemäß ihrer Logik eine neue **Bool** zurück.\n",
    "| **Operator** | **Beschreibung**                                  | **Beispiel**                      | **Ergebnis**      |\n",
    "|--------------|---------------------------------------------------|-----------------------------------|-------------------|\n",
    "| `and`        | Gibt `True` zurück, wenn beide Operanden `True` sind. | `True and True`                   | `True`            |\n",
    "|              |                                                   | `True and False`                  | `False`           |\n",
    "| `or`         | Gibt `True` zurück, wenn mindestens einer der Operanden `True` ist. | `True or False`                   | `True`            |\n",
    "|              |                                                   | `False or False`                 | `False`           |\n",
    "| `not`        | Negiert den Booleschen Wert des Operanden.       | `not True`                        | `False`           |\n",
    "|              |                                                   | `not False`                       | `True`            |\n"
   ]
  },
  {
   "cell_type": "code",
   "execution_count": null,
   "id": "0005c7f3-1f1b-4de8-90ca-676247be89cd",
   "metadata": {
    "editable": true,
    "slideshow": {
     "slide_type": ""
    },
    "tags": []
   },
   "outputs": [],
   "source": [
    "# Logische Operatoren\n",
    "a = True\n",
    "b = False\n",
    "# Und\n",
    "und = a and b\n",
    "# Oder\n",
    "oder = a or b\n",
    "# Nicht\n",
    "nicht = not a\n",
    "\n",
    "print(und, oder, nicht)"
   ]
  },
  {
   "cell_type": "markdown",
   "id": "81a59c3d-1bd2-475e-bf1c-c4aac801d747",
   "metadata": {
    "editable": true,
    "slideshow": {
     "slide_type": ""
    },
    "tags": []
   },
   "source": [
    "**Bool**'sche Werte können für mathematische Operationen genutzt werden, wobei sie entweder die Werte `True = 1` oder `False = 0` annehmen."
   ]
  },
  {
   "cell_type": "code",
   "execution_count": null,
   "id": "9baaa386-f6f7-45e1-8eb8-ae2b4ffbb358",
   "metadata": {
    "editable": true,
    "slideshow": {
     "slide_type": ""
    },
    "tags": []
   },
   "outputs": [],
   "source": [
    "a = True \n",
    "b = 2.7\n",
    "mult = a * b\n",
    "add = a + b\n",
    "div = a / b\n",
    "\n",
    "print(mult, add, div)"
   ]
  },
  {
   "cell_type": "markdown",
   "id": "6c207476-c52a-43e8-9448-2f8f98014cc6",
   "metadata": {
    "editable": true,
    "slideshow": {
     "slide_type": ""
    },
    "tags": []
   },
   "source": [
    "Umgekehrt können logische Operationen zwischen sämtlichen Objekten durchgeführt werden. Dabei sind sämtliche einzelnen Datenobjekte `True`. Die einzige Ausnahme bildet die **Integer** `0`, die `False` ist. Variablen, die zwar deklariert wurden aber keinen Wert haben, bspw. ein leerer **String** `\"\"`, sind ebenfalls `False`."
   ]
  },
  {
   "cell_type": "code",
   "execution_count": null,
   "id": "bd44d015-9917-4e10-bab6-2e72917e4496",
   "metadata": {
    "editable": true,
    "slideshow": {
     "slide_type": ""
    },
    "tags": []
   },
   "outputs": [],
   "source": [
    "a = \"Apfel\"\n",
    "b = 0\n",
    "\n",
    "und = a and b\n",
    "oder = a or b\n",
    "nicht = not a\n",
    "\n",
    "print(und, oder, nicht)"
   ]
  },
  {
   "cell_type": "markdown",
   "id": "788306a8",
   "metadata": {
    "editable": true,
    "slideshow": {
     "slide_type": "slide"
    },
    "tags": []
   },
   "source": [
    "# Datentypen: Container\n",
    "Variablen können zusammengefasst werden in Containern, die Operationen auf Gruppen von Daten erlauben. Es gibt 4 verschiedene grundlegende Arten von Containern:\n",
    "\n",
    "- **Listen:** Listen enthalten geordnete Daten, die überschrieben werden können\n",
    "- **Tupel:** Tupels enthalten geordnete Daten, die **nicht** überschrieben werden können\n",
    "- **Sets:** Sets enthalten **ungeordnete, einzigartige** Daten\n",
    "- **Dictionaries:** Dictionaries enthalten ungeordnete Key-Value Paare, bei denen jedem Key ein Objekt zugeordnet ist\n",
    "\n",
    "Für den Moment konzentrieren wir uns auf **Listen**. Eine **Liste** enthält eine Menge an einzelnen Elementen (**Integers**, **Floats**, **Strings**, **Bools**), die an einer bestimmten Position, einem Index, gespeichert sind. Der Index zählt die Elemente in der Liste, beginnend bei 0. Auf einzelne Elemente der Liste kann über den Index zugegriffen werden mittels eckiger Klammern `liste[index]`."
   ]
  },
  {
   "cell_type": "code",
   "execution_count": null,
   "id": "96e9be44-1ffc-4e7a-9055-cb31389e15f7",
   "metadata": {
    "editable": true,
    "slideshow": {
     "slide_type": ""
    },
    "tags": []
   },
   "outputs": [],
   "source": [
    "# Listen Basics\n",
    "my_list = [3, \"PC\"]\n",
    "print(my_list[1], my_list[0])"
   ]
  },
  {
   "cell_type": "markdown",
   "id": "ac69dc0d-a586-4fbf-9fe0-50c81f503474",
   "metadata": {
    "editable": true,
    "slideshow": {
     "slide_type": ""
    },
    "tags": []
   },
   "source": [
    "<div style=\"background-color: lightblue; padding: 10px;\">\n",
    "    <h3>Wichtig</h3>\n",
    "    <p>\n",
    "       In Python wird immer ab 0 gezählt. \n",
    "    </p>\n",
    "</div>"
   ]
  },
  {
   "cell_type": "markdown",
   "id": "dac70be1-4dbc-4040-ba0a-3813a356fdac",
   "metadata": {
    "editable": true,
    "slideshow": {
     "slide_type": ""
    },
    "tags": []
   },
   "source": [
    "**Listen** können mit einer Vielzahl an Funktionen manipuliert werden. "
   ]
  },
  {
   "cell_type": "markdown",
   "id": "dfb08d41-6818-4380-93bc-a6cd821f6c58",
   "metadata": {
    "editable": true,
    "slideshow": {
     "slide_type": ""
    },
    "tags": []
   },
   "source": [
    "| **Operation**         | **Beschreibung**                                  | **Syntax**                     | \n",
    "|-----------------------|---------------------------------------------------|--------------------------------|\n",
    "| Hinzufügen             | Fügt ein Element am Ende der Liste hinzu         | `liste.append(element)`        |\n",
    "| Einfügen              | Fügt ein Element an einem bestimmten Index ein    | `liste.insert(index, element)` | \n",
    "| Löschen               | Löscht das Element am angegebenen Index          | `del liste[index]`            | \n",
    "| Länge bestimmen       | Gibt die Anzahl der Elemente in der Liste zurück   | `len(liste)`                  |                   |\n",
    "| Sortieren             | Sortiert die Liste in aufsteigender Reihenfolge   | `liste.sort()`                       |\n",
    "| Zählen                | Zählt, wie oft ein Element in der Liste vorkommt   | `liste.count(element)`         |                 |\n",
    "| Finden                | Gibt den Index des ersten Vorkommens eines Elements | `liste.index(element)`         |\n"
   ]
  },
  {
   "cell_type": "markdown",
   "id": "ec66c791-d728-46ae-9eae-a47e449882a9",
   "metadata": {
    "editable": true,
    "slideshow": {
     "slide_type": ""
    },
    "tags": []
   },
   "source": [
    "**Listen** sind keine Vektoren und sind, genau wie **Strings**, im Allgemeinen nicht kompatible mit mathematischen Operatoren."
   ]
  },
  {
   "cell_type": "code",
   "execution_count": null,
   "id": "c51d6f93-f1c3-4395-9c30-d8f893e8bbab",
   "metadata": {
    "editable": true,
    "slideshow": {
     "slide_type": ""
    },
    "tags": []
   },
   "outputs": [],
   "source": [
    "my_list = [1, 2, 3, 4]\n",
    "my_list = my_list * my_list\n",
    "print(my_list)"
   ]
  },
  {
   "cell_type": "markdown",
   "id": "325798fb-714c-473b-9a55-5a33eaedb81b",
   "metadata": {
    "editable": true,
    "raw_mimetype": "",
    "slideshow": {
     "slide_type": ""
    },
    "tags": []
   },
   "source": []
  },
  {
   "cell_type": "markdown",
   "id": "d69feba9-7167-4143-9953-7192f28a174a",
   "metadata": {
    "editable": true,
    "slideshow": {
     "slide_type": "slide"
    },
    "tags": []
   },
   "source": [
    "# Kontrollstrukturen: Iterieren & Loops\n",
    "Anstatt einzeln auf die Elemente einer Liste zuzugreifen, kann eine Operation nacheinander auf alle Elemente einer Liste angewandt werden in einem sogenannten `for` loop. Dabei wird die Liste Index für Index durchgegangen (**iteriert**), bis alle Elemente einmal behandelt wurden. Der Loop wird eingeleitet durch das **Keyword** `for` und folgt der allgemeinen Syntax `for [name] in [iterable]:` "
   ]
  },
  {
   "cell_type": "code",
   "execution_count": null,
   "id": "9d30b25b-af44-46c6-87d3-c6f443c01046",
   "metadata": {
    "editable": true,
    "slideshow": {
     "slide_type": ""
    },
    "tags": []
   },
   "outputs": [],
   "source": [
    "my_list = [5, 3, 6, 2]\n",
    "for element in my_list:\n",
    "    print(element)"
   ]
  },
  {
   "cell_type": "markdown",
   "id": "a2d2c43e-1512-493c-8f89-f2961086920c",
   "metadata": {
    "editable": true,
    "slideshow": {
     "slide_type": ""
    },
    "tags": []
   },
   "source": [
    "Ein **For-Loop** ist eine **Kontrollstruktur**, innerhalb derer der darauffolgende Code nach bestimmten Regeln ausgeführt wird. Der Geltungsbereich aller **Kontrollstrukturen**, also auch von For-Loops, wird bestimmt durch die **Einrückung** (Intendation), die üblicherweise 4 Leerzeichen beträgt. "
   ]
  },
  {
   "cell_type": "markdown",
   "id": "8fd75865-714c-422c-bee2-6eef355a94dd",
   "metadata": {
    "editable": true,
    "slideshow": {
     "slide_type": ""
    },
    "tags": []
   },
   "source": [
    "Ein For-Loop muss nicht direkt über die Elemente einer Liste iterieren. Oft ist es leichter, über Zahlen, bspw. die Indices einer Liste, zu loopen. Dies wird mit der `range()` Funktion erreicht."
   ]
  },
  {
   "cell_type": "code",
   "execution_count": null,
   "id": "256f0583-8b72-4ca1-8a7a-572c284e3712",
   "metadata": {
    "editable": true,
    "slideshow": {
     "slide_type": ""
    },
    "tags": []
   },
   "outputs": [],
   "source": [
    "my_list = [5, 3, 6, 2]\n",
    "n = len(my_list)\n",
    "\n",
    "for i in range(n):\n",
    "    my_list[i] = my_list[i] + 1\n",
    "\n",
    "print(my_list)"
   ]
  },
  {
   "cell_type": "markdown",
   "id": "5bbd1fda-b268-4620-ba77-0be8f911a71d",
   "metadata": {
    "editable": true,
    "slideshow": {
     "slide_type": ""
    },
    "tags": []
   },
   "source": [
    "Der Code innerhalb einer Kontrollstruktur kann beliebig lang und komplex sein, und es ist auch möglich (und häufig) mehrere Loops ineinander zu schachteln."
   ]
  },
  {
   "cell_type": "markdown",
   "id": "fec4aba1-0cc2-44bf-be31-e4a7d34ceda5",
   "metadata": {
    "editable": true,
    "slideshow": {
     "slide_type": ""
    },
    "tags": []
   },
   "source": [
    "Eine kompaktische und praktische Methode um kurze Operationen auf Listen auszuführen sind **List Comprehensions**. Diese folgen einer einfachen einzeiligen Syntax:"
   ]
  },
  {
   "cell_type": "code",
   "execution_count": null,
   "id": "2105eea4-ed9e-41ae-a0aa-cb8509017160",
   "metadata": {
    "editable": true,
    "slideshow": {
     "slide_type": ""
    },
    "tags": []
   },
   "outputs": [],
   "source": [
    "squares = [x ** 2 for x in range(10)]\n",
    "print(squares)"
   ]
  },
  {
   "cell_type": "markdown",
   "id": "043da458-c99f-42bc-9e00-7957dabb8702",
   "metadata": {
    "editable": true,
    "slideshow": {
     "slide_type": "slide"
    },
    "tags": []
   },
   "source": [
    "# Kontrollstrukturen: Entscheidungen\n",
    "Der For-Loop ist eine der grundlegenden Kontrollstrukturen in Python. Kontrollstrukturen ermöglichen es, dem Programm eine komplexe Struktur zu geben, bspw. durch Schleifen (**Loops**) sich wiederholenden Codes oder durch **Entscheidungsstrukturen**, welche Codeabschnitte nur in gewissen Fällen ausführen. "
   ]
  },
  {
   "cell_type": "markdown",
   "id": "e612c9d2-4eaa-41a8-aff1-fbf63cf64d32",
   "metadata": {
    "editable": true,
    "slideshow": {
     "slide_type": ""
    },
    "tags": []
   },
   "source": [
    "Entscheidungsstrukturen sind sogenannte **If/Else** Blocks. Sie folgen der Syntax `if Bedingung: ... else: ...`. Dabei wird der erste Code Block ausgeführt wenn die Bedingung erfüllt ist, während der andere ausgeführt wird wenn sie **nicht** erfüllt ist. Genau wie beim For-Loop werden die Code-Blocks durch ihre Einrückung voneinander getrennt."
   ]
  },
  {
   "cell_type": "code",
   "execution_count": null,
   "id": "e75d306a-f0d7-4073-af7d-d3099511e9a0",
   "metadata": {
    "editable": true,
    "slideshow": {
     "slide_type": ""
    },
    "tags": []
   },
   "outputs": [],
   "source": [
    "# If-else\n",
    "my_list = [x for x in range(5)]\n",
    "for element in my_list:\n",
    "    if element > 2:\n",
    "        print(element)\n",
    "    else:\n",
    "        print(\"Uninteressante Zahl kleiner 3!\")"
   ]
  },
  {
   "cell_type": "markdown",
   "id": "cb8a1f96-d64c-4f70-9817-45f23d7405f5",
   "metadata": {
    "editable": true,
    "slideshow": {
     "slide_type": ""
    },
    "tags": []
   },
   "source": [
    "Eine Bedingung kann durch einen **Bool** Wert ersetzt werden oder mehrere Bedingungen verknüpfen gemäß der **Bool** Logik. Mehrere Spezialfälle können mit durch das **elif** Keyword hinzugefügt werden."
   ]
  },
  {
   "cell_type": "code",
   "execution_count": null,
   "id": "e3731947-44f1-4f55-b567-03f15bb1558d",
   "metadata": {
    "editable": true,
    "slideshow": {
     "slide_type": ""
    },
    "tags": []
   },
   "outputs": [],
   "source": [
    "# If-else\n",
    "my_list = [x for x in range(5)]\n",
    "for element in my_list:\n",
    "    if element > 2 and element < 4:\n",
    "        print(element)\n",
    "    elif element == 0:\n",
    "        print(\"Wir starten mit 0!\")\n",
    "    elif element == 4:\n",
    "        print(\"Und enden mit 4!\")\n",
    "    else:\n",
    "        print(\"Uninteressante Zahl kleiner 3!\")"
   ]
  },
  {
   "cell_type": "markdown",
   "id": "11e95305-b873-4e32-873e-db18fb8f54bb",
   "metadata": {
    "editable": true,
    "slideshow": {
     "slide_type": ""
    },
    "tags": []
   },
   "source": [
    "If Statements können auch in List Comprehensions genutzt werden."
   ]
  },
  {
   "cell_type": "code",
   "execution_count": null,
   "id": "e5a5789e-7154-486f-9f11-86744ae38226",
   "metadata": {
    "editable": true,
    "slideshow": {
     "slide_type": ""
    },
    "tags": []
   },
   "outputs": [],
   "source": [
    "my_list = [x ** 2 for x in range(10) if x > 5]\n",
    "print(my_list)"
   ]
  }
 ],
 "metadata": {
  "celltoolbar": "Slideshow",
  "kernelspec": {
   "display_name": "Python 3 (ipykernel)",
   "language": "python",
   "name": "python3"
  },
  "language_info": {
   "codemirror_mode": {
    "name": "ipython",
    "version": 3
   },
   "file_extension": ".py",
   "mimetype": "text/x-python",
   "name": "python",
   "nbconvert_exporter": "python",
   "pygments_lexer": "ipython3",
   "version": "3.12.4"
  },
  "rise": {
   "scroll": true,
   "show_buttons_on_startup": true
  }
 },
 "nbformat": 4,
 "nbformat_minor": 5
}
